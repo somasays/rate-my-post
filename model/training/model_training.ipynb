{
 "cells": [
  {
   "cell_type": "code",
   "execution_count": 1,
   "metadata": {},
   "outputs": [
    {
     "data": {
      "text/html": [
       "Current session configs: <tt>{'conf': {'spark.jars.packages': 'ml.combust.mleap:mleap-spark_2.11:0.16.0'}, 'kind': 'pyspark'}</tt><br>"
      ],
      "text/plain": [
       "<IPython.core.display.HTML object>"
      ]
     },
     "metadata": {},
     "output_type": "display_data"
    },
    {
     "data": {
      "text/html": [
       "No active sessions."
      ],
      "text/plain": [
       "<IPython.core.display.HTML object>"
      ]
     },
     "metadata": {},
     "output_type": "display_data"
    }
   ],
   "source": [
    "%%configure -f\n",
    "{\n",
    "   \"conf\":{\n",
    "      \"spark.jars.packages\":\"ml.combust.mleap:mleap-spark_2.11:0.16.0\"\n",
    "   }\n",
    "}"
   ]
  },
  {
   "cell_type": "code",
   "execution_count": 2,
   "metadata": {},
   "outputs": [
    {
     "data": {
      "application/vnd.jupyter.widget-view+json": {
       "model_id": "5b8e78b4e2104811b7942ac7606b9f17",
       "version_major": 2,
       "version_minor": 0
      },
      "text/plain": [
       "VBox()"
      ]
     },
     "metadata": {},
     "output_type": "display_data"
    },
    {
     "name": "stdout",
     "output_type": "stream",
     "text": [
      "Starting Spark application\n"
     ]
    },
    {
     "data": {
      "text/html": [
       "<table>\n",
       "<tr><th>ID</th><th>YARN Application ID</th><th>Kind</th><th>State</th><th>Spark UI</th><th>Driver log</th><th>Current session?</th></tr><tr><td>0</td><td>application_1610288844135_0001</td><td>pyspark</td><td>idle</td><td><a target=\"_blank\" href=\"http://ip-172-31-95-173.ec2.internal:20888/proxy/application_1610288844135_0001/\" >Link</a></td><td><a target=\"_blank\" href=\"http://ip-172-31-87-185.ec2.internal:8042/node/containerlogs/container_1610288844135_0001_01_000001/livy\" >Link</a></td><td>✔</td></tr></table>"
      ],
      "text/plain": [
       "<IPython.core.display.HTML object>"
      ]
     },
     "metadata": {},
     "output_type": "display_data"
    },
    {
     "data": {
      "application/vnd.jupyter.widget-view+json": {
       "model_id": "",
       "version_major": 2,
       "version_minor": 0
      },
      "text/plain": [
       "FloatProgress(value=0.0, bar_style='info', description='Progress:', layout=Layout(height='25px', width='50%'),…"
      ]
     },
     "metadata": {},
     "output_type": "display_data"
    },
    {
     "name": "stdout",
     "output_type": "stream",
     "text": [
      "SparkSession available as 'spark'.\n"
     ]
    },
    {
     "data": {
      "application/vnd.jupyter.widget-view+json": {
       "model_id": "",
       "version_major": 2,
       "version_minor": 0
      },
      "text/plain": [
       "FloatProgress(value=0.0, bar_style='info', description='Progress:', layout=Layout(height='25px', width='50%'),…"
      ]
     },
     "metadata": {},
     "output_type": "display_data"
    }
   ],
   "source": [
    "import pyspark.sql.functions as f\n",
    "from pyspark.sql.types import *\n",
    "from pyspark.ml import Pipeline\n",
    "from pyspark.ml.classification import GBTClassifier, RandomForestClassifier\n",
    "from pyspark.ml.feature import StringIndexer, VectorIndexer, OneHotEncoderEstimator, VectorAssembler\n",
    "from pyspark.ml.evaluation import MulticlassClassificationEvaluator, BinaryClassificationEvaluator\n",
    "from pyspark.ml.tuning import CrossValidator, ParamGridBuilder\n",
    "from pyspark.mllib.evaluation import MulticlassMetrics\n",
    "\n",
    "import pandas as pd\n",
    "pd.set_option('display.max_rows', 500)\n",
    "pd.set_option('display.max_columns', 100)\n",
    "pd.set_option('display.float_format', '{:0.2f}'.format)\n",
    "\n",
    "import zipfile\n",
    "import tarfile\n",
    "import os\n",
    "import json\n",
    "from pprint import pprint\n",
    "\n",
    "import boto3\n",
    "from mleap.pyspark.spark_support import SimpleSparkSerializer"
   ]
  },
  {
   "cell_type": "code",
   "execution_count": 3,
   "metadata": {},
   "outputs": [
    {
     "data": {
      "application/vnd.jupyter.widget-view+json": {
       "model_id": "3134ef12f32142be91a1ee1cb63cd784",
       "version_major": 2,
       "version_minor": 0
      },
      "text/plain": [
       "VBox()"
      ]
     },
     "metadata": {},
     "output_type": "display_data"
    },
    {
     "data": {
      "application/vnd.jupyter.widget-view+json": {
       "model_id": "",
       "version_major": 2,
       "version_minor": 0
      },
      "text/plain": [
       "FloatProgress(value=0.0, bar_style='info', description='Progress:', layout=Layout(height='25px', width='50%'),…"
      ]
     },
     "metadata": {},
     "output_type": "display_data"
    }
   ],
   "source": [
    "# Load training data\n",
    "df = spark.sql(\"select * from training.model_data\")"
   ]
  },
  {
   "cell_type": "code",
   "execution_count": 4,
   "metadata": {},
   "outputs": [
    {
     "data": {
      "application/vnd.jupyter.widget-view+json": {
       "model_id": "477221bed41a4c2eb7faea2d3b9495ce",
       "version_major": 2,
       "version_minor": 0
      },
      "text/plain": [
       "VBox()"
      ]
     },
     "metadata": {},
     "output_type": "display_data"
    },
    {
     "data": {
      "application/vnd.jupyter.widget-view+json": {
       "model_id": "",
       "version_major": 2,
       "version_minor": 0
      },
      "text/plain": [
       "FloatProgress(value=0.0, bar_style='info', description='Progress:', layout=Layout(height='25px', width='50%'),…"
      ]
     },
     "metadata": {},
     "output_type": "display_data"
    },
    {
     "name": "stdout",
     "output_type": "stream",
     "text": [
      "-RECORD 0---------------------------------------------------------------------------------------------------------------------------------------------------------------------------------------------------------------------------------------------------------------------------------------------------------------------------------------------------------------------------------------------------------------------------------------------------------------------------------------------\n",
      " dataset_name                               | android-stackexchange-com                                                                                                                                                                                                                                                                                                                                                                                                                               \n",
      " post_id                                    | 123                                                                                                                                                                                                                                                                                                                                                                                                                                                     \n",
      " post_datetime                              | 2010-09-13 20:05:01.347                                                                                                                                                                                                                                                                                                                                                                                                                                 \n",
      " post_hour                                  | 20                                                                                                                                                                                                                                                                                                                                                                                                                                                      \n",
      " post_dayofweek                             | 2                                                                                                                                                                                                                                                                                                                                                                                                                                                       \n",
      " post_month                                 | 9                                                                                                                                                                                                                                                                                                                                                                                                                                                       \n",
      " post_year                                  | 2010                                                                                                                                                                                                                                                                                                                                                                                                                                                    \n",
      " post_body                                  | <p>When I remove my Motorola Droid from my docking station, my home screen is blank for a long time. It sometimes takes over 10 seconds for my app icons to display, and even longer for widgets to display. Is there any way to eliminate this pause? Am I doing something wrong?</p>\n",
      "\n",
      "<p><strong>NOTE:</strong> I am using the LauncherPro app as a launcher/home screen app, but I get the same behavior with the default Android launcher app.</p>\n",
      " \n",
      " post_body_char_count                       | 406                                                                                                                                                                                                                                                                                                                                                                                                                                                     \n",
      " post_body_nocode_char_count                | 406                                                                                                                                                                                                                                                                                                                                                                                                                                                     \n",
      " post_body_code_perc                        | 0.0                                                                                                                                                                                                                                                                                                                                                                                                                                                     \n",
      " post_body_code_flag                        | 0                                                                                                                                                                                                                                                                                                                                                                                                                                                       \n",
      " post_body_image_flag                       | 0                                                                                                                                                                                                                                                                                                                                                                                                                                                       \n",
      " post_body_link_flag                        | 0                                                                                                                                                                                                                                                                                                                                                                                                                                                       \n",
      " post_body_bold_flag                        | 1                                                                                                                                                                                                                                                                                                                                                                                                                                                       \n",
      " post_title                                 | Home Screen Takes a Long Time to Display After Removing Phone From Dock                                                                                                                                                                                                                                                                                                                                                                                 \n",
      " post_title_upper_flag                      | 1                                                                                                                                                                                                                                                                                                                                                                                                                                                       \n",
      " post_title_question_flag                   | 0                                                                                                                                                                                                                                                                                                                                                                                                                                                       \n",
      " post_title_char_count                      | 71                                                                                                                                                                                                                                                                                                                                                                                                                                                      \n",
      " post_tags                                  | [motorola-droid, launcher, docking-station]                                                                                                                                                                                                                                                                                                                                                                                                             \n",
      " post_tag_count                             | 3                                                                                                                                                                                                                                                                                                                                                                                                                                                       \n",
      " post_body_sentence_count                   | 5                                                                                                                                                                                                                                                                                                                                                                                                                                                       \n",
      " post_body_word_count                       | 75                                                                                                                                                                                                                                                                                                                                                                                                                                                      \n",
      " post_body_word_distinct_count              | 34                                                                                                                                                                                                                                                                                                                                                                                                                                                      \n",
      " post_body_verb_perc                        | 0.16                                                                                                                                                                                                                                                                                                                                                                                                                                                    \n",
      " post_body_noun_perc                        | 0.3333333333333333                                                                                                                                                                                                                                                                                                                                                                                                                                      \n",
      " post_body_pronoun_perc                     | 0.12                                                                                                                                                                                                                                                                                                                                                                                                                                                    \n",
      " post_body_adjective_perc                   | 0.05333333333333334                                                                                                                                                                                                                                                                                                                                                                                                                                     \n",
      " post_body_adverb_perc                      | 0.04                                                                                                                                                                                                                                                                                                                                                                                                                                                    \n",
      " post_title_word_count                      | 13                                                                                                                                                                                                                                                                                                                                                                                                                                                      \n",
      " post_title_word_distinct_count             | 9                                                                                                                                                                                                                                                                                                                                                                                                                                                       \n",
      " post_title_verb_perc                       | 0.07692307692307693                                                                                                                                                                                                                                                                                                                                                                                                                                     \n",
      " post_title_noun_perc                       | 0.6153846153846154                                                                                                                                                                                                                                                                                                                                                                                                                                      \n",
      " post_title_pronoun_perc                    | 0.0                                                                                                                                                                                                                                                                                                                                                                                                                                                     \n",
      " post_title_adjective_perc                  | 0.0                                                                                                                                                                                                                                                                                                                                                                                                                                                     \n",
      " post_title_adverb_perc                     | 0.0                                                                                                                                                                                                                                                                                                                                                                                                                                                     \n",
      " post_title_in_body_perc                    | 0.8888888888888888                                                                                                                                                                                                                                                                                                                                                                                                                                      \n",
      " tag_post_count_max                         | 12                                                                                                                                                                                                                                                                                                                                                                                                                                                      \n",
      " tag_post_count_30d_max                     | 2                                                                                                                                                                                                                                                                                                                                                                                                                                                       \n",
      " tag_post_count_365d_max                    | 12                                                                                                                                                                                                                                                                                                                                                                                                                                                      \n",
      " tag_age_days_max                           | 308                                                                                                                                                                                                                                                                                                                                                                                                                                                     \n",
      " tag_post_count_avg                         | 4.333333333333333                                                                                                                                                                                                                                                                                                                                                                                                                                       \n",
      " tag_post_count_30d_avg                     | 1.0                                                                                                                                                                                                                                                                                                                                                                                                                                                     \n",
      " tag_post_count_365d_avg                    | 4.333333333333333                                                                                                                                                                                                                                                                                                                                                                                                                                       \n",
      " tag_age_days_avg                           | 102.66666666666667                                                                                                                                                                                                                                                                                                                                                                                                                                      \n",
      " user_id                                    | 36                                                                                                                                                                                                                                                                                                                                                                                                                                                      \n",
      " user_age_days                              | 0                                                                                                                                                                                                                                                                                                                                                                                                                                                       \n",
      " user_website_flag                          | 1                                                                                                                                                                                                                                                                                                                                                                                                                                                       \n",
      " user_location_flag                         | 1                                                                                                                                                                                                                                                                                                                                                                                                                                                       \n",
      " user_about_me_flag                         | 1                                                                                                                                                                                                                                                                                                                                                                                                                                                       \n",
      " user_badge_count                           | 5                                                                                                                                                                                                                                                                                                                                                                                                                                                       \n",
      " user_badge_1_count                         | 0                                                                                                                                                                                                                                                                                                                                                                                                                                                       \n",
      " user_badge_2_count                         | 0                                                                                                                                                                                                                                                                                                                                                                                                                                                       \n",
      " user_badge_3_count                         | 5                                                                                                                                                                                                                                                                                                                                                                                                                                                       \n",
      " user_post_count                            | 4                                                                                                                                                                                                                                                                                                                                                                                                                                                       \n",
      " user_question_count                        | 3                                                                                                                                                                                                                                                                                                                                                                                                                                                       \n",
      " user_answer_count                          | 1                                                                                                                                                                                                                                                                                                                                                                                                                                                       \n",
      " user_first_post_flag                       | 0                                                                                                                                                                                                                                                                                                                                                                                                                                                       \n",
      " user_first_question_flag                   | 0                                                                                                                                                                                                                                                                                                                                                                                                                                                       \n",
      " user_answered_questions_count              | 3                                                                                                                                                                                                                                                                                                                                                                                                                                                       \n",
      " user_accepted_answers_count                | 3                                                                                                                                                                                                                                                                                                                                                                                                                                                       \n",
      " user_score                                 | 21                                                                                                                                                                                                                                                                                                                                                                                                                                                      \n",
      " user_question_score                        | 8                                                                                                                                                                                                                                                                                                                                                                                                                                                       \n",
      " user_answer_score                          | 13                                                                                                                                                                                                                                                                                                                                                                                                                                                      \n",
      " post_closed_flag                           | 0                                                                                                                                                                                                                                                                                                                                                                                                                                                       \n",
      " post_score                                 | 4                                                                                                                                                                                                                                                                                                                                                                                                                                                       \n",
      " post_score_1d                              | 1                                                                                                                                                                                                                                                                                                                                                                                                                                                       \n",
      " post_score_30d                             | 3                                                                                                                                                                                                                                                                                                                                                                                                                                                       \n",
      " answer_count                               | 1                                                                                                                                                                                                                                                                                                                                                                                                                                                       \n",
      " answer_1d_count                            | 0                                                                                                                                                                                                                                                                                                                                                                                                                                                       \n",
      " answer_30d_count                           | 1                                                                                                                                                                                                                                                                                                                                                                                                                                                       \n",
      " answer_flag                                | 1                                                                                                                                                                                                                                                                                                                                                                                                                                                       \n",
      " answer_1d_flag                             | 0                                                                                                                                                                                                                                                                                                                                                                                                                                                       \n",
      " answer_7d_flag                             | 1                                                                                                                                                                                                                                                                                                                                                                                                                                                       \n",
      " answer_14d_flag                            | 1                                                                                                                                                                                                                                                                                                                                                                                                                                                       \n",
      " answer_30d_flag                            | 1                                                                                                                                                                                                                                                                                                                                                                                                                                                       \n",
      " answer_max_score                           | 1                                                                                                                                                                                                                                                                                                                                                                                                                                                       \n",
      " answer_max_score_1d                        | 0                                                                                                                                                                                                                                                                                                                                                                                                                                                       \n",
      " answer_max_score_30d                       | 1                                                                                                                                                                                                                                                                                                                                                                                                                                                       \n",
      " answer_accepted_flag                       | 1                                                                                                                                                                                                                                                                                                                                                                                                                                                       \n",
      " answer_accepted_1d_flag                    | 0                                                                                                                                                                                                                                                                                                                                                                                                                                                       \n",
      " answer_accepted_7d_flag                    | 1                                                                                                                                                                                                                                                                                                                                                                                                                                                       \n",
      " answer_accepted_14d_flag                   | 1                                                                                                                                                                                                                                                                                                                                                                                                                                                       \n",
      " answer_accepted_30d_flag                   | 1                                                                                                                                                                                                                                                                                                                                                                                                                                                       \n",
      " android_stackexchange_com_flag             | 1                                                                                                                                                                                                                                                                                                                                                                                                                                                       \n",
      " askubuntu_com_flag                         | 0                                                                                                                                                                                                                                                                                                                                                                                                                                                       \n",
      " cs_stackexchange_com_flag                  | 0                                                                                                                                                                                                                                                                                                                                                                                                                                                       \n",
      " datascience_stackexchange_com_flag         | 0                                                                                                                                                                                                                                                                                                                                                                                                                                                       \n",
      " dba_stackexchange_com_flag                 | 0                                                                                                                                                                                                                                                                                                                                                                                                                                                       \n",
      " devops_stackexchange_com_flag              | 0                                                                                                                                                                                                                                                                                                                                                                                                                                                       \n",
      " gamedev_stackexchange_com_flag             | 0                                                                                                                                                                                                                                                                                                                                                                                                                                                       \n",
      " raspberrypi_stackexchange_com_flag         | 0                                                                                                                                                                                                                                                                                                                                                                                                                                                       \n",
      " softwareengineering_stackexchange_com_flag | 0                                                                                                                                                                                                                                                                                                                                                                                                                                                       \n",
      " unix_stackexchange_com_flag                | 0                                                                                                                                                                                                                                                                                                                                                                                                                                                       \n",
      "only showing top 1 row"
     ]
    }
   ],
   "source": [
    "df.show(1, vertical=True, truncate=False)"
   ]
  },
  {
   "cell_type": "code",
   "execution_count": 5,
   "metadata": {},
   "outputs": [
    {
     "data": {
      "application/vnd.jupyter.widget-view+json": {
       "model_id": "7318e1b257bb475896661138779d83ef",
       "version_major": 2,
       "version_minor": 0
      },
      "text/plain": [
       "VBox()"
      ]
     },
     "metadata": {},
     "output_type": "display_data"
    },
    {
     "data": {
      "application/vnd.jupyter.widget-view+json": {
       "model_id": "",
       "version_major": 2,
       "version_minor": 0
      },
      "text/plain": [
       "FloatProgress(value=0.0, bar_style='info', description='Progress:', layout=Layout(height='25px', width='50%'),…"
      ]
     },
     "metadata": {},
     "output_type": "display_data"
    },
    {
     "name": "stdout",
     "output_type": "stream",
     "text": [
      "True"
     ]
    }
   ],
   "source": [
    "# check NA\n",
    "df.select([f.count(f.when(f.isnan(c[0]) | f.isnull(c[0]), c[0])).alias(c[0]) for c in df.dtypes if not c[1] in (\"string\", \"timestamp\", \"array<string>\")])\\\n",
    ".toPandas().transpose().sum().sum() == 0"
   ]
  },
  {
   "cell_type": "code",
   "execution_count": 6,
   "metadata": {
    "scrolled": false
   },
   "outputs": [
    {
     "data": {
      "application/vnd.jupyter.widget-view+json": {
       "model_id": "2b839b94ec4544bd9acc40e619027d55",
       "version_major": 2,
       "version_minor": 0
      },
      "text/plain": [
       "VBox()"
      ]
     },
     "metadata": {},
     "output_type": "display_data"
    },
    {
     "data": {
      "application/vnd.jupyter.widget-view+json": {
       "model_id": "",
       "version_major": 2,
       "version_minor": 0
      },
      "text/plain": [
       "FloatProgress(value=0.0, bar_style='info', description='Progress:', layout=Layout(height='25px', width='50%'),…"
      ]
     },
     "metadata": {},
     "output_type": "display_data"
    },
    {
     "name": "stdout",
     "output_type": "stream",
     "text": [
      "+----------------------------+----------------------------+-----------------------------+-----------------------------+-------------------------+\n",
      "|avg(answer_accepted_1d_flag)|avg(answer_accepted_7d_flag)|avg(answer_accepted_14d_flag)|avg(answer_accepted_30d_flag)|avg(answer_accepted_flag)|\n",
      "+----------------------------+----------------------------+-----------------------------+-----------------------------+-------------------------+\n",
      "|         0.14489200888418927|         0.28837452992207835|           0.3083902121153894|           0.3227118498424023|      0.37565655757954775|\n",
      "+----------------------------+----------------------------+-----------------------------+-----------------------------+-------------------------+\n",
      "\n",
      "+-------------------+-------------------+--------------------+--------------------+------------------+\n",
      "|avg(answer_1d_flag)|avg(answer_7d_flag)|avg(answer_14d_flag)|avg(answer_30d_flag)|  avg(answer_flag)|\n",
      "+-------------------+-------------------+--------------------+--------------------+------------------+\n",
      "| 0.5677371693044339| 0.6928402552593231|  0.7079424222424582|  0.7222031930091313|0.7951182310867856|\n",
      "+-------------------+-------------------+--------------------+--------------------+------------------+\n",
      "\n",
      "+---------------------+\n",
      "|avg(post_closed_flag)|\n",
      "+---------------------+\n",
      "|  0.10636560992871405|\n",
      "+---------------------+"
     ]
    }
   ],
   "source": [
    "# Potential target variables\n",
    "df.agg(\n",
    "      f.mean((\"answer_accepted_1d_flag\")),\n",
    "      f.mean((\"answer_accepted_7d_flag\")),\n",
    "      f.mean((\"answer_accepted_14d_flag\")),\n",
    "      f.mean((\"answer_accepted_30d_flag\")),\n",
    "      f.mean((\"answer_accepted_flag\"))).show()\n",
    "\n",
    "df.agg(\n",
    "      f.mean((\"answer_1d_flag\")),\n",
    "      f.mean((\"answer_7d_flag\")),\n",
    "      f.mean((\"answer_14d_flag\")),\n",
    "      f.mean((\"answer_30d_flag\")),\n",
    "      f.mean((\"answer_flag\")),).show()\n",
    "\n",
    "df.agg(f.mean((\"post_closed_flag\"))).show()"
   ]
  },
  {
   "cell_type": "code",
   "execution_count": 7,
   "metadata": {
    "scrolled": true
   },
   "outputs": [
    {
     "data": {
      "application/vnd.jupyter.widget-view+json": {
       "model_id": "c634845d29344ac29ec6cc4527015620",
       "version_major": 2,
       "version_minor": 0
      },
      "text/plain": [
       "VBox()"
      ]
     },
     "metadata": {},
     "output_type": "display_data"
    },
    {
     "data": {
      "application/vnd.jupyter.widget-view+json": {
       "model_id": "",
       "version_major": 2,
       "version_minor": 0
      },
      "text/plain": [
       "FloatProgress(value=0.0, bar_style='info', description='Progress:', layout=Layout(height='25px', width='50%'),…"
      ]
     },
     "metadata": {},
     "output_type": "display_data"
    },
    {
     "name": "stdout",
     "output_type": "stream",
     "text": [
      "+--------------------+-------------------------+\n",
      "|        dataset_name|avg(answer_accepted_flag)|\n",
      "+--------------------+-------------------------+\n",
      "|cs-stackexchange-com|       0.4482627578718784|\n",
      "|datascience-stack...|       0.3252392907578848|\n",
      "|softwareengineeri...|       0.5755453094520305|\n",
      "|android-stackexch...|      0.24668830241054845|\n",
      "|unix-stackexchang...|      0.44735514678683125|\n",
      "|dba-stackexchange...|      0.46438227050623804|\n",
      "|devops-stackexcha...|       0.3636882671995432|\n",
      "|gamedev-stackexch...|       0.4996215479769036|\n",
      "|       askubuntu-com|       0.2853066188245777|\n",
      "|raspberrypi-stack...|       0.3082882018235415|\n",
      "+--------------------+-------------------------+"
     ]
    }
   ],
   "source": [
    "df.groupBy(\"dataset_name\").agg(f.mean(\"answer_accepted_flag\")).show()"
   ]
  },
  {
   "cell_type": "code",
   "execution_count": 8,
   "metadata": {
    "scrolled": true
   },
   "outputs": [
    {
     "data": {
      "application/vnd.jupyter.widget-view+json": {
       "model_id": "4fe2f92e49ee453c89679b7487f26b5c",
       "version_major": 2,
       "version_minor": 0
      },
      "text/plain": [
       "VBox()"
      ]
     },
     "metadata": {},
     "output_type": "display_data"
    },
    {
     "data": {
      "application/vnd.jupyter.widget-view+json": {
       "model_id": "",
       "version_major": 2,
       "version_minor": 0
      },
      "text/plain": [
       "FloatProgress(value=0.0, bar_style='info', description='Progress:', layout=Layout(height='25px', width='50%'),…"
      ]
     },
     "metadata": {},
     "output_type": "display_data"
    },
    {
     "name": "stdout",
     "output_type": "stream",
     "text": [
      "+--------------------+------------------+\n",
      "|        dataset_name|  avg(answer_flag)|\n",
      "+--------------------+------------------+\n",
      "|cs-stackexchange-com|0.7833876221498371|\n",
      "|datascience-stack...|0.7485093362623568|\n",
      "|softwareengineeri...|0.9534846604007803|\n",
      "|android-stackexch...|0.7246341314065274|\n",
      "|unix-stackexchang...|0.8246236450661913|\n",
      "|dba-stackexchange...|0.8665947367115608|\n",
      "|devops-stackexcha...|0.8321438766771339|\n",
      "|gamedev-stackexch...|0.8586535758309725|\n",
      "|       askubuntu-com| 0.742233687734043|\n",
      "|raspberrypi-stack...|0.7819633920614245|\n",
      "+--------------------+------------------+"
     ]
    }
   ],
   "source": [
    "df.groupBy(\"dataset_name\").agg(f.mean(\"answer_flag\")).show()"
   ]
  },
  {
   "cell_type": "code",
   "execution_count": 9,
   "metadata": {
    "scrolled": false
   },
   "outputs": [
    {
     "data": {
      "application/vnd.jupyter.widget-view+json": {
       "model_id": "d5837fcd425d42d380573df2f4ece468",
       "version_major": 2,
       "version_minor": 0
      },
      "text/plain": [
       "VBox()"
      ]
     },
     "metadata": {},
     "output_type": "display_data"
    },
    {
     "data": {
      "application/vnd.jupyter.widget-view+json": {
       "model_id": "",
       "version_major": 2,
       "version_minor": 0
      },
      "text/plain": [
       "FloatProgress(value=0.0, bar_style='info', description='Progress:', layout=Layout(height='25px', width='50%'),…"
      ]
     },
     "metadata": {},
     "output_type": "display_data"
    },
    {
     "name": "stdout",
     "output_type": "stream",
     "text": [
      "                                            1_mean  0_mean  1_median  0_median\n",
      "post_hour                                    12.78   12.65     13.00     13.00\n",
      "post_dayofweek                                3.99    4.00      4.00      4.00\n",
      "post_month                                    6.46    6.50      6.00      6.00\n",
      "post_year                                  2015.36 2015.95   2015.00   2016.00\n",
      "post_body_char_count                        895.05 1022.70    577.00    598.00\n",
      "post_body_nocode_char_count                 444.95  506.18    322.00    373.00\n",
      "post_body_code_perc                           0.32    0.27      0.12      0.00\n",
      "post_body_code_flag                           0.57    0.48      1.00      0.00\n",
      "post_body_image_flag                          0.08    0.09      0.00      0.00\n",
      "post_body_link_flag                           0.23    0.25      0.00      0.00\n",
      "post_body_bold_flag                           0.15    0.14      0.00      0.00\n",
      "post_title_upper_flag                         0.89    0.88      1.00      1.00\n",
      "post_title_question_flag                      0.40    0.31      0.00      0.00\n",
      "post_title_char_count                        52.92   52.81     50.00     50.00\n",
      "post_tag_count                                2.71    2.75      3.00      3.00\n",
      "post_body_sentence_count                      4.98    5.68      4.00      4.00\n",
      "post_body_word_count                         79.10   89.22     58.00     67.00\n",
      "post_body_word_distinct_count                29.68   34.08     24.00     27.00\n",
      "post_body_verb_perc                           0.20    0.20      0.19      0.19\n",
      "post_body_noun_perc                           0.28    0.29      0.27      0.28\n",
      "post_body_pronoun_perc                        0.08    0.08      0.07      0.08\n",
      "post_body_adjective_perc                      0.05    0.05      0.05      0.05\n",
      "post_body_adverb_perc                         0.04    0.04      0.04      0.04\n",
      "post_title_word_count                         8.92    8.77      8.00      8.00\n",
      "post_title_word_distinct_count                5.46    5.65      5.00      5.00\n",
      "post_title_verb_perc                          0.14    0.13      0.13      0.12\n",
      "post_title_noun_perc                          0.47    0.49      0.43      0.47\n",
      "post_title_pronoun_perc                       0.02    0.02      0.00      0.00\n",
      "post_title_adjective_perc                     0.06    0.05      0.00      0.00\n",
      "post_title_adverb_perc                        0.02    0.02      0.00      0.00\n",
      "post_title_in_body_perc                       0.61    0.65      0.67      0.70\n",
      "tag_post_count_max                         4185.28 4452.18   1663.00   1921.00\n",
      "tag_post_count_30d_max                      109.72  132.15     48.00     52.00\n",
      "tag_post_count_365d_max                    1127.73 1259.97    528.00    567.00\n",
      "tag_age_days_max                           2026.98 2147.59   1982.00   2132.00\n",
      "tag_post_count_avg                         2123.52 2288.15    893.00   1031.67\n",
      "tag_post_count_30d_avg                       52.91   61.87     25.67     27.50\n",
      "tag_post_count_365d_avg                     557.44  613.96    280.25    301.25\n",
      "tag_age_days_avg                           1796.74 1918.71   1737.50   1875.40\n",
      "user_age_days                               345.05  326.00     73.00     14.00\n",
      "user_website_flag                             0.37    0.29      0.00      0.00\n",
      "user_location_flag                            0.48    0.37      0.00      0.00\n",
      "user_about_me_flag                            0.49    0.37      0.00      0.00\n",
      "user_badge_count                              9.17    6.97      2.00      1.00\n",
      "user_badge_1_count                            0.35    0.29      0.00      0.00\n",
      "user_badge_2_count                            1.86    1.49      0.00      0.00\n",
      "user_badge_3_count                            6.96    5.20      2.00      1.00\n",
      "user_post_count                              18.00   13.06      1.00      0.00\n",
      "user_question_count                           9.34    6.27      1.00      0.00\n",
      "user_answer_count                             8.37    6.57      0.00      0.00\n",
      "user_first_post_flag                          0.40    0.54      0.00      1.00\n",
      "user_first_question_flag                      0.43    0.56      0.00      1.00\n",
      "user_answered_questions_count                 8.61    5.61      1.00      0.00\n",
      "user_accepted_answers_count                   6.36    3.58      0.00      0.00\n",
      "user_score                                  109.00   75.67      1.00      0.00\n",
      "user_question_score                          62.17   39.26      1.00      0.00\n",
      "user_answer_score                            46.75   36.34      0.00      0.00\n",
      "android_stackexchange_com_flag                0.03    0.07      0.00      0.00\n",
      "askubuntu_com_flag                            0.29    0.44      0.00      0.00\n",
      "cs_stackexchange_com_flag                     0.06    0.04      0.00      0.00\n",
      "datascience_stackexchange_com_flag            0.03    0.03      0.00      0.00\n",
      "dba_stackexchange_com_flag                    0.12    0.08      0.00      0.00\n",
      "devops_stackexchange_com_flag                 0.00    0.00      0.00      0.00\n",
      "gamedev_stackexchange_com_flag                0.08    0.05      0.00      0.00\n",
      "raspberrypi_stackexchange_com_flag            0.03    0.04      0.00      0.00\n",
      "softwareengineering_stackexchange_com_flag    0.10    0.05      0.00      0.00\n",
      "unix_stackexchange_com_flag                   0.27    0.19      0.00      0.00"
     ]
    }
   ],
   "source": [
    "# Features vs target\n",
    "y = \"answer_accepted_7d_flag\"\n",
    "x = ['post_hour', \n",
    "     'post_dayofweek', \n",
    "     'post_month', \n",
    "     'post_year',\n",
    "     'post_body_char_count',\n",
    "     'post_body_nocode_char_count',\n",
    "     'post_body_code_perc',\n",
    "     'post_body_code_flag',\n",
    "     'post_body_image_flag',\n",
    "     'post_body_link_flag',\n",
    "     'post_body_bold_flag',\n",
    "     'post_title_upper_flag',\n",
    "     'post_title_question_flag',\n",
    "     'post_title_char_count',\n",
    "     'post_tag_count', \n",
    "     'post_body_sentence_count', \n",
    "     'post_body_word_count', \n",
    "     'post_body_word_distinct_count', \n",
    "     'post_body_verb_perc', \n",
    "     'post_body_noun_perc', \n",
    "     'post_body_pronoun_perc', \n",
    "     'post_body_adjective_perc', \n",
    "     'post_body_adverb_perc', \n",
    "     'post_title_word_count', \n",
    "     'post_title_word_distinct_count', \n",
    "     'post_title_verb_perc', \n",
    "     'post_title_noun_perc', \n",
    "     'post_title_pronoun_perc', \n",
    "     'post_title_adjective_perc', \n",
    "     'post_title_adverb_perc', \n",
    "     'post_title_in_body_perc', \n",
    "     'tag_post_count_max', \n",
    "     'tag_post_count_30d_max', \n",
    "     'tag_post_count_365d_max',\n",
    "     'tag_age_days_max',\n",
    "     'tag_post_count_avg',\n",
    "     'tag_post_count_30d_avg',\n",
    "     'tag_post_count_365d_avg',\n",
    "     'tag_age_days_avg',\n",
    "     'user_age_days',\n",
    "     'user_website_flag',\n",
    "     'user_location_flag',\n",
    "     'user_about_me_flag',\n",
    "     'user_badge_count',\n",
    "     'user_badge_1_count',\n",
    "     'user_badge_2_count',\n",
    "     'user_badge_3_count', \n",
    "     'user_post_count',\n",
    "     'user_question_count',\n",
    "     'user_answer_count',\n",
    "     'user_first_post_flag',\n",
    "     'user_first_question_flag',\n",
    "     'user_answered_questions_count',\n",
    "     'user_accepted_answers_count',\n",
    "     'user_score',\n",
    "     'user_question_score',\n",
    "     'user_answer_score',\n",
    "     'android_stackexchange_com_flag',\n",
    "     'askubuntu_com_flag',\n",
    "     'cs_stackexchange_com_flag',\n",
    "     'datascience_stackexchange_com_flag',\n",
    "     'dba_stackexchange_com_flag',\n",
    "     'devops_stackexchange_com_flag',\n",
    "     'gamedev_stackexchange_com_flag',\n",
    "     'raspberrypi_stackexchange_com_flag',\n",
    "     'softwareengineering_stackexchange_com_flag',\n",
    "     'unix_stackexchange_com_flag']\n",
    "\n",
    "df_model = df.select(*x, y).withColumnRenamed(y, \"y\")\n",
    "\n",
    "x_mean_vs_y = \\\n",
    "df_model.groupBy(\"y\")\\\n",
    ".agg(*[f.mean(c).alias(c) for c in x])\\\n",
    ".toPandas().transpose()\n",
    "\n",
    "x_median_vs_y = \\\n",
    "df_model.groupBy(\"y\")\\\n",
    ".agg(*[f.expr(f\"percentile_approx({c}, 0.5)\").alias(c) for c in x])\\\n",
    ".toPandas().transpose()\n",
    "\n",
    "x_vs_y = x_mean_vs_y.merge(x_median_vs_y, \n",
    "                           left_index=True, \n",
    "                           right_index=True).drop(\"y\")\n",
    "x_vs_y.columns = [\"1_mean\", \"0_mean\", \"1_median\", \"0_median\"]\n",
    "x_vs_y"
   ]
  },
  {
   "cell_type": "code",
   "execution_count": 10,
   "metadata": {},
   "outputs": [
    {
     "data": {
      "application/vnd.jupyter.widget-view+json": {
       "model_id": "3167f5614208458188cbb1d2b7e59a5f",
       "version_major": 2,
       "version_minor": 0
      },
      "text/plain": [
       "VBox()"
      ]
     },
     "metadata": {},
     "output_type": "display_data"
    },
    {
     "data": {
      "application/vnd.jupyter.widget-view+json": {
       "model_id": "",
       "version_major": 2,
       "version_minor": 0
      },
      "text/plain": [
       "FloatProgress(value=0.0, bar_style='info', description='Progress:', layout=Layout(height='25px', width='50%'),…"
      ]
     },
     "metadata": {},
     "output_type": "display_data"
    },
    {
     "name": "stdout",
     "output_type": "stream",
     "text": [
      "+-------------------+\n",
      "|             avg(y)|\n",
      "+-------------------+\n",
      "|0.28838510682919094|\n",
      "+-------------------+\n",
      "\n",
      "+-----------------+\n",
      "|           avg(y)|\n",
      "+-----------------+\n",
      "|0.288349854412958|\n",
      "+-----------------+"
     ]
    }
   ],
   "source": [
    "train, test = df_model.randomSplit([0.7, 0.3], seed=1)\n",
    "df.count(), train.count(), test.count()\n",
    "\n",
    "train.select(f.mean(\"y\")).show()\n",
    "test.select(f.mean(\"y\")).show()"
   ]
  },
  {
   "cell_type": "code",
   "execution_count": 11,
   "metadata": {
    "scrolled": true
   },
   "outputs": [
    {
     "data": {
      "application/vnd.jupyter.widget-view+json": {
       "model_id": "68b3d517933f429b8aa6dd284c911c4f",
       "version_major": 2,
       "version_minor": 0
      },
      "text/plain": [
       "VBox()"
      ]
     },
     "metadata": {},
     "output_type": "display_data"
    },
    {
     "data": {
      "application/vnd.jupyter.widget-view+json": {
       "model_id": "",
       "version_major": 2,
       "version_minor": 0
      },
      "text/plain": [
       "FloatProgress(value=0.0, bar_style='info', description='Progress:', layout=Layout(height='25px', width='50%'),…"
      ]
     },
     "metadata": {},
     "output_type": "display_data"
    },
    {
     "name": "stdout",
     "output_type": "stream",
     "text": [
      "Accuracy: 0.721069547645945\n",
      "ROC AUC: 0.7005526735300485\n",
      "PR AUC: 0.4652045043080087\n",
      "\n",
      "Confusion matrix:\n",
      " [[0.6779185  0.03373164]\n",
      " [0.24519881 0.04315104]]\n",
      "\n",
      "Feature importance\n",
      "                                              0\n",
      "post_year                                  0.13\n",
      "user_accepted_answers_count                0.07\n",
      "post_body_char_count                       0.06\n",
      "post_body_code_perc                        0.06\n",
      "post_body_word_distinct_count              0.05\n",
      "post_body_noun_perc                        0.05\n",
      "post_title_question_flag                   0.04\n",
      "user_question_count                        0.04\n",
      "softwareengineering_stackexchange_com_flag 0.04\n",
      "user_age_days                              0.04\n",
      "askubuntu_com_flag                         0.04\n",
      "cs_stackexchange_com_flag                  0.03\n",
      "user_location_flag                         0.03\n",
      "tag_post_count_365d_avg                    0.03\n",
      "post_title_noun_perc                       0.02\n",
      "gamedev_stackexchange_com_flag             0.02\n",
      "raspberrypi_stackexchange_com_flag         0.02\n",
      "tag_post_count_30d_max                     0.02\n",
      "post_title_word_distinct_count             0.02\n",
      "user_answered_questions_count              0.02\n",
      "dba_stackexchange_com_flag                 0.02\n",
      "tag_post_count_30d_avg                     0.01\n",
      "user_post_count                            0.01\n",
      "user_about_me_flag                         0.01\n",
      "tag_age_days_avg                           0.01\n",
      "unix_stackexchange_com_flag                0.01\n",
      "tag_post_count_avg                         0.01\n",
      "post_title_adverb_perc                     0.01\n",
      "tag_post_count_365d_max                    0.01\n",
      "tag_age_days_max                           0.01\n",
      "post_body_sentence_count                   0.01\n",
      "post_body_pronoun_perc                     0.01\n",
      "post_body_verb_perc                        0.01\n",
      "user_badge_3_count                         0.01\n",
      "android_stackexchange_com_flag             0.00\n",
      "user_question_score                        0.00\n",
      "post_tag_count                             0.00\n",
      "user_badge_count                           0.00\n",
      "post_hour                                  0.00\n",
      "post_body_nocode_char_count                0.00\n",
      "post_body_adjective_perc                   0.00\n",
      "post_body_link_flag                        0.00\n",
      "datascience_stackexchange_com_flag         0.00\n",
      "user_answer_score                          0.00\n",
      "post_title_adjective_perc                  0.00\n",
      "post_body_adverb_perc                      0.00\n",
      "tag_post_count_max                         0.00\n",
      "post_title_in_body_perc                    0.00\n",
      "post_month                                 0.00\n",
      "post_title_verb_perc                       0.00\n",
      "user_first_question_flag                   0.00\n",
      "post_body_word_count                       0.00\n",
      "user_answer_count                          0.00\n",
      "user_badge_1_count                         0.00\n",
      "user_score                                 0.00\n",
      "post_title_char_count                      0.00\n",
      "post_title_word_count                      0.00\n",
      "post_body_bold_flag                        0.00\n",
      "user_website_flag                          0.00\n",
      "post_title_upper_flag                      0.00\n",
      "post_title_pronoun_perc                    0.00\n",
      "post_body_image_flag                       0.00\n",
      "devops_stackexchange_com_flag              0.00\n",
      "post_body_code_flag                        0.00\n",
      "user_first_post_flag                       0.00\n",
      "post_dayofweek                             0.00\n",
      "user_badge_2_count                         0.00"
     ]
    }
   ],
   "source": [
    "# Baseline model\n",
    "indexer = StringIndexer(inputCol=\"y\", outputCol='label')\n",
    "vec_assembler = VectorAssembler(inputCols=x, outputCol=\"features\")\n",
    "gbt = GBTClassifier(seed=1)\n",
    "pipeline = Pipeline(stages=[indexer, vec_assembler, gbt])\n",
    "\n",
    "model = pipeline.fit(train)\n",
    "prediction = model.transform(test)\n",
    "\n",
    "evaluator = MulticlassClassificationEvaluator(metricName=\"accuracy\")\n",
    "print(\"Accuracy:\", evaluator.evaluate(prediction))\n",
    "\n",
    "evaluator = BinaryClassificationEvaluator(metricName=\"areaUnderROC\")\n",
    "print(\"ROC AUC:\", evaluator.evaluate(prediction))\n",
    "\n",
    "evaluator = BinaryClassificationEvaluator(metricName=\"areaUnderPR\")\n",
    "print(\"PR AUC:\", evaluator.evaluate(prediction))\n",
    "\n",
    "metrics = MulticlassMetrics(prediction.select(\"prediction\", \"label\").rdd.map(tuple))\n",
    "print(\"\\nConfusion matrix:\\n\", metrics.confusionMatrix().toArray()/test.count())\n",
    "\n",
    "print(\"\\nFeature importance\")\n",
    "pd.DataFrame(model.stages[2].featureImportances.toArray(), index=x)\\\n",
    ".sort_values(0, ascending=False)"
   ]
  },
  {
   "cell_type": "code",
   "execution_count": null,
   "metadata": {},
   "outputs": [
    {
     "data": {
      "application/vnd.jupyter.widget-view+json": {
       "model_id": "d4d259d172bf40f7ac023636a901e539",
       "version_major": 2,
       "version_minor": 0
      },
      "text/plain": [
       "VBox()"
      ]
     },
     "metadata": {},
     "output_type": "display_data"
    },
    {
     "data": {
      "application/vnd.jupyter.widget-view+json": {
       "model_id": "",
       "version_major": 2,
       "version_minor": 0
      },
      "text/plain": [
       "FloatProgress(value=0.0, bar_style='info', description='Progress:', layout=Layout(height='25px', width='50%'),…"
      ]
     },
     "metadata": {},
     "output_type": "display_data"
    },
    {
     "name": "stderr",
     "output_type": "stream",
     "text": [
      "Exception in thread cell_monitor-11:\n",
      "Traceback (most recent call last):\n",
      "  File \"/mnt/notebook-env/lib/python3.7/threading.py\", line 926, in _bootstrap_inner\n",
      "    self.run()\n",
      "  File \"/mnt/notebook-env/lib/python3.7/threading.py\", line 870, in run\n",
      "    self._target(*self._args, **self._kwargs)\n",
      "  File \"/mnt/notebook-env/lib/python3.7/site-packages/awseditorssparkmonitoringwidget-1.0-py3.7.egg/awseditorssparkmonitoringwidget/cellmonitor.py\", line 178, in cell_monitor\n",
      "    job_binned_stages[job_id][stage_id] = all_stages[stage_id]\n",
      "KeyError: 958\n",
      "\n"
     ]
    }
   ],
   "source": [
    "# Grid search\n",
    "paramGrid = ParamGridBuilder() \\\n",
    ".addGrid(gbt.stepSize, [0.05, 0.1, 0.15])\\\n",
    ".addGrid(gbt.maxDepth, [5, 8, 10])\\\n",
    ".addGrid(gbt.minInstancesPerNode, [10, 50, 100])\\\n",
    ".build()\n",
    "\n",
    "crossval = CrossValidator(estimator=pipeline,\n",
    "                          estimatorParamMaps=paramGrid,\n",
    "                          evaluator=BinaryClassificationEvaluator(metricName=\"areaUnderPR\"),\n",
    "                          numFolds=5,\n",
    "                         seed=1)\n",
    "\n",
    "model = crossval.fit(train)\n",
    "prediction = model.transform(test)"
   ]
  },
  {
   "cell_type": "code",
   "execution_count": 13,
   "metadata": {
    "scrolled": true
   },
   "outputs": [
    {
     "data": {
      "application/vnd.jupyter.widget-view+json": {
       "model_id": "bcb106f4b81a4af1b1725e1df71b5b60",
       "version_major": 2,
       "version_minor": 0
      },
      "text/plain": [
       "VBox()"
      ]
     },
     "metadata": {},
     "output_type": "display_data"
    },
    {
     "data": {
      "application/vnd.jupyter.widget-view+json": {
       "model_id": "",
       "version_major": 2,
       "version_minor": 0
      },
      "text/plain": [
       "FloatProgress(value=0.0, bar_style='info', description='Progress:', layout=Layout(height='25px', width='50%'),…"
      ]
     },
     "metadata": {},
     "output_type": "display_data"
    },
    {
     "name": "stdout",
     "output_type": "stream",
     "text": [
      "PR AUC: 0.4789862365856764\n",
      "ROC AUC: 0.7093072203338219\n",
      "Accuracy: 0.7250632468297029\n",
      "\n",
      "Confusion matrix:\n",
      " [[0.66382918 0.04782097]\n",
      " [0.22711579 0.06123407]]\n",
      "\n",
      "Feature importance\n",
      "                                              0\n",
      "post_year                                  0.13\n",
      "user_accepted_answers_count                0.07\n",
      "post_body_char_count                       0.06\n",
      "post_body_code_perc                        0.06\n",
      "post_body_word_distinct_count              0.05\n",
      "post_body_noun_perc                        0.05\n",
      "post_title_question_flag                   0.04\n",
      "user_question_count                        0.04\n",
      "softwareengineering_stackexchange_com_flag 0.04\n",
      "user_age_days                              0.04\n",
      "askubuntu_com_flag                         0.04\n",
      "cs_stackexchange_com_flag                  0.03\n",
      "user_location_flag                         0.03\n",
      "tag_post_count_365d_avg                    0.03\n",
      "post_title_noun_perc                       0.02\n",
      "gamedev_stackexchange_com_flag             0.02\n",
      "raspberrypi_stackexchange_com_flag         0.02\n",
      "tag_post_count_30d_max                     0.02\n",
      "post_title_word_distinct_count             0.02\n",
      "user_answered_questions_count              0.02\n",
      "dba_stackexchange_com_flag                 0.02\n",
      "tag_post_count_30d_avg                     0.01\n",
      "user_post_count                            0.01\n",
      "user_about_me_flag                         0.01\n",
      "tag_age_days_avg                           0.01\n",
      "unix_stackexchange_com_flag                0.01\n",
      "tag_post_count_avg                         0.01\n",
      "post_title_adverb_perc                     0.01\n",
      "tag_post_count_365d_max                    0.01\n",
      "tag_age_days_max                           0.01\n",
      "post_body_sentence_count                   0.01\n",
      "post_body_pronoun_perc                     0.01\n",
      "post_body_verb_perc                        0.01\n",
      "user_badge_3_count                         0.01\n",
      "android_stackexchange_com_flag             0.00\n",
      "user_question_score                        0.00\n",
      "post_tag_count                             0.00\n",
      "user_badge_count                           0.00\n",
      "post_hour                                  0.00\n",
      "post_body_nocode_char_count                0.00\n",
      "post_body_adjective_perc                   0.00\n",
      "post_body_link_flag                        0.00\n",
      "datascience_stackexchange_com_flag         0.00\n",
      "user_answer_score                          0.00\n",
      "post_title_adjective_perc                  0.00\n",
      "post_body_adverb_perc                      0.00\n",
      "tag_post_count_max                         0.00\n",
      "post_title_in_body_perc                    0.00\n",
      "post_month                                 0.00\n",
      "post_title_verb_perc                       0.00\n",
      "user_first_question_flag                   0.00\n",
      "post_body_word_count                       0.00\n",
      "user_answer_count                          0.00\n",
      "user_badge_1_count                         0.00\n",
      "user_score                                 0.00\n",
      "post_title_char_count                      0.00\n",
      "post_title_word_count                      0.00\n",
      "post_body_bold_flag                        0.00\n",
      "user_website_flag                          0.00\n",
      "post_title_upper_flag                      0.00\n",
      "post_title_pronoun_perc                    0.00\n",
      "post_body_image_flag                       0.00\n",
      "devops_stackexchange_com_flag              0.00\n",
      "post_body_code_flag                        0.00\n",
      "user_first_post_flag                       0.00\n",
      "post_dayofweek                             0.00\n",
      "user_badge_2_count                         0.00"
     ]
    }
   ],
   "source": [
    "print(\"PR AUC:\", crossval.getEvaluator().evaluate(prediction))\n",
    "print(\"ROC AUC:\", BinaryClassificationEvaluator(metricName=\"areaUnderROC\").evaluate(prediction))\n",
    "print(\"Accuracy:\", MulticlassClassificationEvaluator(metricName=\"accuracy\").evaluate(prediction))\n",
    "\n",
    "metrics = MulticlassMetrics(prediction.select(\"prediction\", \"label\").rdd.map(tuple))\n",
    "print(\"\\nConfusion matrix:\\n\", metrics.confusionMatrix().toArray()/test.count())\n",
    "\n",
    "print(\"\\nFeature importance\")\n",
    "pd.DataFrame(model.stages[2].featureImportances.toArray(), index=x)\\\n",
    ".sort_values(0, ascending=False)"
   ]
  },
  {
   "cell_type": "code",
   "execution_count": 15,
   "metadata": {},
   "outputs": [
    {
     "data": {
      "application/vnd.jupyter.widget-view+json": {
       "model_id": "43f3478202ee4ccfacbe2635f1f08dbe",
       "version_major": 2,
       "version_minor": 0
      },
      "text/plain": [
       "VBox()"
      ]
     },
     "metadata": {},
     "output_type": "display_data"
    },
    {
     "data": {
      "application/vnd.jupyter.widget-view+json": {
       "model_id": "",
       "version_major": 2,
       "version_minor": 0
      },
      "text/plain": [
       "FloatProgress(value=0.0, bar_style='info', description='Progress:', layout=Layout(height='25px', width='50%'),…"
      ]
     },
     "metadata": {},
     "output_type": "display_data"
    }
   ],
   "source": [
    "# Save model\n",
    "SimpleSparkSerializer().serializeToBundle(model, \"jar:file:/tmp/model.zip\", prediction)\n",
    "with zipfile.ZipFile(\"/tmp/model.zip\") as zf:\n",
    "    zf.extractall(\"/tmp/model\")\n",
    "with tarfile.open(\"/tmp/model.tar.gz\", \"w:gz\") as tar:\n",
    "    tar.add(\"/tmp/model/bundle.json\", arcname='bundle.json')\n",
    "    tar.add(\"/tmp/model/root\", arcname='root')\n",
    "    \n",
    "# upload to S3\n",
    "# MLeap format\n",
    "s3 = boto3.resource('s3') \n",
    "bucket_name = \"rate-my-post-pre\"\n",
    "s3.Bucket(bucket_name).upload_file('/tmp/model.tar.gz', \"model.tar.gz\")\n",
    "\n",
    "# Spark format\n",
    "model.write().overwrite().save(f\"s3://{bucket_name}/sparkmodel\")"
   ]
  }
 ],
 "metadata": {
  "kernelspec": {
   "display_name": "PySpark",
   "language": "",
   "name": "pysparkkernel"
  },
  "language_info": {
   "codemirror_mode": {
    "name": "python",
    "version": 3
   },
   "mimetype": "text/x-python",
   "name": "pyspark",
   "pygments_lexer": "python3"
  }
 },
 "nbformat": 4,
 "nbformat_minor": 4
}
