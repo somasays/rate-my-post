{
 "cells": [
  {
   "cell_type": "code",
   "execution_count": 1,
   "metadata": {},
   "outputs": [
    {
     "data": {
      "application/vnd.jupyter.widget-view+json": {
       "model_id": "b26ea30ca3c948d59633b31467474738",
       "version_major": 2,
       "version_minor": 0
      },
      "text/plain": [
       "VBox()"
      ]
     },
     "metadata": {},
     "output_type": "display_data"
    },
    {
     "name": "stdout",
     "output_type": "stream",
     "text": [
      "Starting Spark application\n"
     ]
    },
    {
     "data": {
      "text/html": [
       "<table>\n",
       "<tr><th>ID</th><th>YARN Application ID</th><th>Kind</th><th>State</th><th>Spark UI</th><th>Driver log</th><th>Current session?</th></tr><tr><td>0</td><td>application_1609677753456_0001</td><td>pyspark</td><td>idle</td><td><a target=\"_blank\" href=\"http://ip-172-31-94-138.ec2.internal:20888/proxy/application_1609677753456_0001/\" >Link</a></td><td><a target=\"_blank\" href=\"http://ip-172-31-95-169.ec2.internal:8042/node/containerlogs/container_1609677753456_0001_01_000001/livy\" >Link</a></td><td>✔</td></tr></table>"
      ],
      "text/plain": [
       "<IPython.core.display.HTML object>"
      ]
     },
     "metadata": {},
     "output_type": "display_data"
    },
    {
     "data": {
      "application/vnd.jupyter.widget-view+json": {
       "model_id": "",
       "version_major": 2,
       "version_minor": 0
      },
      "text/plain": [
       "FloatProgress(value=0.0, bar_style='info', description='Progress:', layout=Layout(height='25px', width='50%'),…"
      ]
     },
     "metadata": {},
     "output_type": "display_data"
    },
    {
     "name": "stdout",
     "output_type": "stream",
     "text": [
      "SparkSession available as 'spark'.\n"
     ]
    },
    {
     "data": {
      "application/vnd.jupyter.widget-view+json": {
       "model_id": "",
       "version_major": 2,
       "version_minor": 0
      },
      "text/plain": [
       "FloatProgress(value=0.0, bar_style='info', description='Progress:', layout=Layout(height='25px', width='50%'),…"
      ]
     },
     "metadata": {},
     "output_type": "display_data"
    }
   ],
   "source": [
    "database_name = \"training\"\n",
    "bucket_name = \"rate-my-post-2\""
   ]
  },
  {
   "cell_type": "code",
   "execution_count": 2,
   "metadata": {},
   "outputs": [
    {
     "data": {
      "application/vnd.jupyter.widget-view+json": {
       "model_id": "d7fd3e2791ed40fe97db1b1f357a0400",
       "version_major": 2,
       "version_minor": 0
      },
      "text/plain": [
       "VBox()"
      ]
     },
     "metadata": {},
     "output_type": "display_data"
    },
    {
     "data": {
      "application/vnd.jupyter.widget-view+json": {
       "model_id": "",
       "version_major": 2,
       "version_minor": 0
      },
      "text/plain": [
       "FloatProgress(value=0.0, bar_style='info', description='Progress:', layout=Layout(height='25px', width='50%'),…"
      ]
     },
     "metadata": {},
     "output_type": "display_data"
    }
   ],
   "source": [
    "import pyspark.sql.functions as f\n",
    "from pyspark.sql.types import *\n",
    "\n",
    "from nltk.tokenize import sent_tokenize, word_tokenize\n",
    "import re"
   ]
  },
  {
   "cell_type": "code",
   "execution_count": 3,
   "metadata": {},
   "outputs": [
    {
     "data": {
      "application/vnd.jupyter.widget-view+json": {
       "model_id": "c01e3a22edb441eb84cbc46e803f9d19",
       "version_major": 2,
       "version_minor": 0
      },
      "text/plain": [
       "VBox()"
      ]
     },
     "metadata": {},
     "output_type": "display_data"
    },
    {
     "data": {
      "application/vnd.jupyter.widget-view+json": {
       "model_id": "",
       "version_major": 2,
       "version_minor": 0
      },
      "text/plain": [
       "FloatProgress(value=0.0, bar_style='info', description='Progress:', layout=Layout(height='25px', width='50%'),…"
      ]
     },
     "metadata": {},
     "output_type": "display_data"
    },
    {
     "name": "stdout",
     "output_type": "stream",
     "text": [
      "<function count_words at 0x7f39b9d71710>"
     ]
    }
   ],
   "source": [
    "# NLTK UDF\n",
    "@f.pandas_udf(IntegerType(), f.PandasUDFType.SCALAR)\n",
    "def count_sentences(df):\n",
    "    return df.apply(lambda text: len(sent_tokenize(text)))\n",
    "\n",
    "@f.pandas_udf(IntegerType(), f.PandasUDFType.SCALAR)\n",
    "def count_words(df):\n",
    "    return df.apply(lambda text: len([w for w in word_tokenize(text) if re.search(\"[A-Za-z0-9]\", w)]))\n",
    "\n",
    "spark.udf.register(\"udf_count_sentences\", count_sentences)\n",
    "spark.udf.register(\"udf_count_words\", count_words)"
   ]
  },
  {
   "cell_type": "code",
   "execution_count": 4,
   "metadata": {},
   "outputs": [
    {
     "data": {
      "application/vnd.jupyter.widget-view+json": {
       "model_id": "e1b11cbef2634e3e9a7680ecb95f7f05",
       "version_major": 2,
       "version_minor": 0
      },
      "text/plain": [
       "VBox()"
      ]
     },
     "metadata": {},
     "output_type": "display_data"
    },
    {
     "data": {
      "application/vnd.jupyter.widget-view+json": {
       "model_id": "",
       "version_major": 2,
       "version_minor": 0
      },
      "text/plain": [
       "FloatProgress(value=0.0, bar_style='info', description='Progress:', layout=Layout(height='25px', width='50%'),…"
      ]
     },
     "metadata": {},
     "output_type": "display_data"
    },
    {
     "name": "stdout",
     "output_type": "stream",
     "text": [
      "DataFrame[]"
     ]
    }
   ],
   "source": [
    "spark.sql(f\"\"\"\n",
    "create database if not exists {database_name}\n",
    "location 's3://{bucket_name}/{database_name}'\n",
    "\"\"\")"
   ]
  },
  {
   "cell_type": "code",
   "execution_count": 5,
   "metadata": {},
   "outputs": [
    {
     "data": {
      "application/vnd.jupyter.widget-view+json": {
       "model_id": "46fc88f9c7194f17aee8a126c62f7294",
       "version_major": 2,
       "version_minor": 0
      },
      "text/plain": [
       "VBox()"
      ]
     },
     "metadata": {},
     "output_type": "display_data"
    },
    {
     "data": {
      "application/vnd.jupyter.widget-view+json": {
       "model_id": "",
       "version_major": 2,
       "version_minor": 0
      },
      "text/plain": [
       "FloatProgress(value=0.0, bar_style='info', description='Progress:', layout=Layout(height='25px', width='50%'),…"
      ]
     },
     "metadata": {},
     "output_type": "display_data"
    },
    {
     "name": "stdout",
     "output_type": "stream",
     "text": [
      "DataFrame[]"
     ]
    }
   ],
   "source": [
    "spark.sql(f\"\"\"\n",
    "use default\n",
    "\"\"\")"
   ]
  },
  {
   "cell_type": "code",
   "execution_count": 6,
   "metadata": {
    "scrolled": true
   },
   "outputs": [
    {
     "data": {
      "application/vnd.jupyter.widget-view+json": {
       "model_id": "cbf24383a9ff466c98ab933b43efa9a3",
       "version_major": 2,
       "version_minor": 0
      },
      "text/plain": [
       "VBox()"
      ]
     },
     "metadata": {},
     "output_type": "display_data"
    },
    {
     "data": {
      "application/vnd.jupyter.widget-view+json": {
       "model_id": "",
       "version_major": 2,
       "version_minor": 0
      },
      "text/plain": [
       "FloatProgress(value=0.0, bar_style='info', description='Progress:', layout=Layout(height='25px', width='50%'),…"
      ]
     },
     "metadata": {},
     "output_type": "display_data"
    },
    {
     "name": "stdout",
     "output_type": "stream",
     "text": [
      "-RECORD 0---------------------------------------------------------------------------------------------------------------------------------------------------------------------------------------------------------------------------------------------------------------------------------------------------------------------------------------------------------\n",
      " dataset_name             | dba-stackexchange-com                                                                                                                                                                                                                                                                                                                 \n",
      " post_id                  | 3                                                                                                                                                                                                                                                                                                                                     \n",
      " post_datetime            | 2011-01-03 20:48:58.913                                                                                                                                                                                                                                                                                                               \n",
      " post_hour                | 20                                                                                                                                                                                                                                                                                                                                    \n",
      " post_dayofweek           | 2                                                                                                                                                                                                                                                                                                                                     \n",
      " post_month               | 1                                                                                                                                                                                                                                                                                                                                     \n",
      " post_year                | 2011                                                                                                                                                                                                                                                                                                                                  \n",
      " body                     | <p>I used to label columns in my databases like this:</p>\n",
      "\n",
      "<pre><code>user_id\n",
      "user_name\n",
      "user_password_hash\n",
      "</code></pre>\n",
      "\n",
      "<p>To avoid conflicts when joining two tables, but then I learnt some more on how to alias tables, and I stopped doing this. </p>\n",
      "\n",
      "<p>What is an effective way of labeling columns in a database? Why?</p>\n",
      " \n",
      " body_clean               | I used to label columns in my databases like this: user_id user_name user_password_hash To avoid conflicts when joining two tables, but then I learnt some more on how to alias tables, and I stopped doing this. What is an effective way of labeling columns in a database? Why?                                                    \n",
      " body_clean_nocode        | I used to label columns in my databases like this: To avoid conflicts when joining two tables, but then I learnt some more on how to alias tables, and I stopped doing this. What is an effective way of labeling columns in a database? Why?                                                                                         \n",
      " body_n_characters        | 274                                                                                                                                                                                                                                                                                                                                   \n",
      " body_nocode_n_characters | 237                                                                                                                                                                                                                                                                                                                                   \n",
      " body_code_perc           | 0.13503649635036497                                                                                                                                                                                                                                                                                                                   \n",
      " body_code_flag           | 1                                                                                                                                                                                                                                                                                                                                     \n",
      " body_image_flag          | 0                                                                                                                                                                                                                                                                                                                                     \n",
      " body_link_flag           | 0                                                                                                                                                                                                                                                                                                                                     \n",
      " body_bold_flag           | 0                                                                                                                                                                                                                                                                                                                                     \n",
      " title                    | What is an effective way of labeling columns in a database?                                                                                                                                                                                                                                                                           \n",
      " title_upper_flag         | 1                                                                                                                                                                                                                                                                                                                                     \n",
      " title_question_flag      | 1                                                                                                                                                                                                                                                                                                                                     \n",
      " title_n_characters       | 59                                                                                                                                                                                                                                                                                                                                    \n",
      " tags                     | [database-design, erd]                                                                                                                                                                                                                                                                                                                \n",
      " n_tags                   | 2                                                                                                                                                                                                                                                                                                                                     \n",
      " post_closed_flag         | 0                                                                                                                                                                                                                                                                                                                                     \n",
      " post_score               | 30                                                                                                                                                                                                                                                                                                                                    \n",
      " post_score_1d            | 5                                                                                                                                                                                                                                                                                                                                     \n",
      " post_score_30d           | 10                                                                                                                                                                                                                                                                                                                                    \n",
      "only showing top 1 row"
     ]
    }
   ],
   "source": [
    "# question parameters\n",
    "spark.sql(f\"\"\"drop table if exists {database_name}.questions\"\"\")\n",
    "\n",
    "spark.sql(f\"\"\"\n",
    "create table {database_name}.questions \n",
    "using parquet\n",
    "as\n",
    "select\n",
    "    dataset_name,\n",
    "    post_id,\n",
    "    post_datetime,\n",
    "    post_hour,\n",
    "    post_dayofweek,\n",
    "    post_month,\n",
    "    post_year,\n",
    "    body,\n",
    "    body_clean,\n",
    "    body_clean_nocode,\n",
    "    \n",
    "    length(body_clean) as body_n_characters,\n",
    "    length(body_clean_nocode) as body_nocode_n_characters,\n",
    "    \n",
    "    1-length(body_clean_nocode)/length(body_clean) as body_code_perc,\n",
    "    case when body like \"%<code>%</code>%\" then 1 else 0 end as body_code_flag,\n",
    "    case when body like \"%<img>%</img>%\" then 1 else 0 end as body_image_flag,\n",
    "    case when body like \"%<a href%</a>%\" then 1 else 0 end as body_link_flag,\n",
    "    case when body like \"%<strong>%</strong>%\" or body like \"%<b>%</b>%\" then 1 else 0 end as body_bold_flag,\n",
    "    \n",
    "    title,\n",
    "    case when title rlike \"^[A-Z]\" then 1 else 0 end as title_upper_flag,\n",
    "    case when substr(title, -1, 1) = \"?\" then 1 else 0 end as title_question_flag,\n",
    "    length(title) as title_n_characters,\n",
    "    \n",
    "    tags,\n",
    "    n_tags,\n",
    "    \n",
    "    post_closed_flag,\n",
    "    post_score,\n",
    "    post_score_1d,\n",
    "    post_score_30d\n",
    "from (\n",
    "select \n",
    "    p.dataset_name,\n",
    "    p.id as post_id,\n",
    "    \n",
    "    p.creation_date as post_datetime,\n",
    "    hour(p.creation_date) as post_hour,\n",
    "    dayofweek(p.creation_date) as post_dayofweek,\n",
    "    month(p.creation_date) as post_month,\n",
    "    year(p.creation_date) as post_year,\n",
    "\n",
    "    p.body,\n",
    "    trim(regexp_replace(regexp_replace(regexp_replace(p.body, \"<.*?>\", \"\"), \"\\n\", \" \"), \" +\", \" \")) as body_clean,\n",
    "    trim(regexp_replace(regexp_replace(regexp_replace(regexp_replace(p.body, \"(?s)<code>.*<\\/code>\", \"\"), \"<.*?>\", \"\"), \"\\n\", \" \"), \" +\", \" \")) as body_clean_nocode,\n",
    "    p.title,\n",
    "    p.tags,\n",
    "    size(p.tags) as n_tags,\n",
    "    case when p.closed_date is not null then 1 else 0 end as post_closed_flag,\n",
    "    p.score as post_score,\n",
    "    count(case when v.vote_type_id = 2 and datediff(v.creation_date, p.creation_date) < 1 then 1 end) -\n",
    "    count(case when v.vote_type_id = 3 and datediff(v.creation_date, p.creation_date) < 1 then 1 end) as post_score_1d,\n",
    "    count(case when v.vote_type_id = 2 and datediff(v.creation_date, p.creation_date) < 30 then 1 end) -\n",
    "    count(case when v.vote_type_id = 3 and datediff(v.creation_date, p.creation_date) < 30 then 1 end) as post_score_30d\n",
    "    \n",
    "from posts p\n",
    "left join votes v\n",
    "    on v.post_id = p.id\n",
    "    and p.dataset_name = v.dataset_name\n",
    "    and v.vote_type_id in (2, 3, 5)\n",
    "where p.post_type_id = 1\n",
    "group by\n",
    "    p.dataset_name,\n",
    "    p.id,\n",
    "    p.owner_user_id,\n",
    "    p.creation_date,\n",
    "    p.creation_year,\n",
    "    p.body,\n",
    "    p.title,\n",
    "    p.tags,\n",
    "    p.closed_date,\n",
    "    p.score\n",
    "    )\n",
    "\"\"\")\n",
    "\n",
    "spark.sql(f\"\"\"select * from {database_name}.questions\"\"\").show(1, vertical=True, truncate=False)"
   ]
  },
  {
   "cell_type": "code",
   "execution_count": 7,
   "metadata": {
    "scrolled": true
   },
   "outputs": [
    {
     "data": {
      "application/vnd.jupyter.widget-view+json": {
       "model_id": "b8542a4fa22440ffbedadf0ee960e5fa",
       "version_major": 2,
       "version_minor": 0
      },
      "text/plain": [
       "VBox()"
      ]
     },
     "metadata": {},
     "output_type": "display_data"
    },
    {
     "data": {
      "application/vnd.jupyter.widget-view+json": {
       "model_id": "",
       "version_major": 2,
       "version_minor": 0
      },
      "text/plain": [
       "FloatProgress(value=0.0, bar_style='info', description='Progress:', layout=Layout(height='25px', width='50%'),…"
      ]
     },
     "metadata": {},
     "output_type": "display_data"
    },
    {
     "name": "stdout",
     "output_type": "stream",
     "text": [
      "-RECORD 0----------------------------------------\n",
      " dataset_name            | dba-stackexchange-com \n",
      " post_id                 | 61913                 \n",
      " body_nocode_n_sentences | 7                     \n",
      " body_nocode_n_words     | 67                    \n",
      " title_n_words           | 8                     \n",
      "only showing top 1 row"
     ]
    }
   ],
   "source": [
    "# question parameters - NLP\n",
    "spark.sql(f\"\"\"drop table if exists {database_name}.questions_nlp\"\"\")\n",
    "\n",
    "spark.sql(f\"\"\"\n",
    "create table {database_name}.questions_nlp \n",
    "using parquet\n",
    "as\n",
    "select\n",
    "    dataset_name,\n",
    "    post_id,\n",
    "    udf_count_sentences(body_clean_nocode) as body_nocode_n_sentences,\n",
    "    udf_count_words(body_clean_nocode) as body_nocode_n_words,\n",
    "    udf_count_words(title) as title_n_words\n",
    "    \n",
    "    /*\n",
    "    ,\n",
    "    udf_count_verbs(body_clean_nocode) as body_n_verbs,\n",
    "    udf_count_nouns(body_clean_nocode) as body_n_nouns,\n",
    "    udf_count_pronouns(body_clean_nocode) as body_n_prons,\n",
    "    udf_count_adjectives(body_clean_nocode) as body_n_adjs,\n",
    "    udf_count_adverbs(body_clean_nocode) as body_n_advs,\n",
    "    \n",
    "    udf_get_sentiment_pos(body_clean_nocode) as body_sentiment_pos,\n",
    "    udf_get_sentiment_neg(body_clean_nocode) as body_sentiment_neg,\n",
    "    udf_get_sentiment_com(body_clean_nocode) as body_sentiment_compound,\n",
    "    \n",
    "    udf_count_verbs(title) as title_n_verbs,\n",
    "    udf_count_nouns(title) as title_n_nouns,\n",
    "    udf_count_pronouns(title) as title_n_prons,\n",
    "    udf_count_adjectives(title) as title_n_adjs,\n",
    "    udf_count_adverbs(title) as title_n_advs\n",
    "    */\n",
    "from (\n",
    "select \n",
    "    p.dataset_name,\n",
    "    p.id as post_id,\n",
    "    \n",
    "    p.body,\n",
    "    trim(regexp_replace(regexp_replace(regexp_replace(p.body, \"<.*?>\", \"\"), \"\\n\", \" \"), \" +\", \" \")) as body_clean,\n",
    "    trim(regexp_replace(regexp_replace(regexp_replace(regexp_replace(p.body, \"(?s)<code>.*<\\/code>\", \"\"), \"<.*?>\", \"\"), \"\\n\", \" \"), \" +\", \" \")) as body_clean_nocode,\n",
    "    p.title\n",
    "from posts p\n",
    "where p.post_type_id = 1\n",
    "group by\n",
    "    p.dataset_name,\n",
    "    p.id,\n",
    "    p.body,\n",
    "    p.title\n",
    "    )\n",
    "\"\"\")\n",
    "\n",
    "spark.sql(f\"\"\"select * from {database_name}.questions_nlp\"\"\").show(1, vertical=True, truncate=False)"
   ]
  },
  {
   "cell_type": "code",
   "execution_count": 8,
   "metadata": {
    "scrolled": true
   },
   "outputs": [
    {
     "data": {
      "application/vnd.jupyter.widget-view+json": {
       "model_id": "30dc39fe8e404f699ee06c1342c828c2",
       "version_major": 2,
       "version_minor": 0
      },
      "text/plain": [
       "VBox()"
      ]
     },
     "metadata": {},
     "output_type": "display_data"
    },
    {
     "data": {
      "application/vnd.jupyter.widget-view+json": {
       "model_id": "",
       "version_major": 2,
       "version_minor": 0
      },
      "text/plain": [
       "FloatProgress(value=0.0, bar_style='info', description='Progress:', layout=Layout(height='25px', width='50%'),…"
      ]
     },
     "metadata": {},
     "output_type": "display_data"
    },
    {
     "name": "stdout",
     "output_type": "stream",
     "text": [
      "-RECORD 0---------------------------\n",
      " dataset_name       | askubuntu-com \n",
      " post_id            | 900923        \n",
      " user_id            | 5             \n",
      " user_display_name  | Nathan Osman  \n",
      " user_age_days      | 2444          \n",
      " user_age_months    | 80.2901318    \n",
      " user_website_flag  | 1             \n",
      " user_location_flag | 1             \n",
      " user_about_me_flag | 1             \n",
      " n_badges           | 359           \n",
      " n_badges_class_1   | 25            \n",
      " n_badges_class_2   | 120           \n",
      " n_badges_class_3   | 214           \n",
      "only showing top 1 row"
     ]
    }
   ],
   "source": [
    "# user status\n",
    "spark.sql(f\"\"\"drop table if exists {database_name}.user_status\"\"\")\n",
    "\n",
    "spark.sql(f\"\"\"\n",
    "create table {database_name}.user_status \n",
    "using parquet\n",
    "as\n",
    "select distinct\n",
    "    p.dataset_name,\n",
    "    p.id as post_id,    \n",
    "    p.owner_user_id as user_id,\n",
    "    u.display_name as user_display_name,\n",
    "    \n",
    "    datediff(p.creation_date, u.creation_date) as user_age_days,\n",
    "    months_between(p.creation_date, u.creation_date) as user_age_months,\n",
    "    \n",
    "    case when u.website_url is not null then 1 else 0 end as user_website_flag,\n",
    "    case when u.location is not null then 1 else 0 end as user_location_flag,\n",
    "    case when u.about_me is not null then 1 else 0 end as user_about_me_flag,\n",
    "    \n",
    "    count(b.name) as n_badges,\n",
    "    count(case when b.class = 1 then b.name end) as n_badges_class_1,\n",
    "    count(case when b.class = 2 then b.name end) as n_badges_class_2,\n",
    "    count(case when b.class = 3 then b.name end) as n_badges_class_3\n",
    "from posts p\n",
    "join users u\n",
    "    on p.owner_user_id = u.id\n",
    "    and p.dataset_name = u.dataset_name\n",
    "left join badges b\n",
    "    on u.id = b.user_id\n",
    "    and u.dataset_name = b.dataset_name\n",
    "    and b.date <= p.creation_date\n",
    "where p.post_type_id = 1\n",
    "    and p.owner_user_id is not null\n",
    "group by\n",
    "    p.dataset_name,\n",
    "    p.id,    \n",
    "    p.owner_user_id,\n",
    "    u.display_name,\n",
    "    p.creation_date,\n",
    "    u.creation_date,\n",
    "    u.website_url,\n",
    "    u.location,\n",
    "    u.about_me\n",
    "\"\"\")\n",
    "\n",
    "spark.sql(f\"\"\"select * from {database_name}.user_status\"\"\").show(1, vertical=True, truncate=False)"
   ]
  },
  {
   "cell_type": "code",
   "execution_count": 9,
   "metadata": {
    "scrolled": true
   },
   "outputs": [
    {
     "data": {
      "application/vnd.jupyter.widget-view+json": {
       "model_id": "52805dabe16b4826acd7ce871d32579f",
       "version_major": 2,
       "version_minor": 0
      },
      "text/plain": [
       "VBox()"
      ]
     },
     "metadata": {},
     "output_type": "display_data"
    },
    {
     "data": {
      "application/vnd.jupyter.widget-view+json": {
       "model_id": "",
       "version_major": 2,
       "version_minor": 0
      },
      "text/plain": [
       "FloatProgress(value=0.0, bar_style='info', description='Progress:', layout=Layout(height='25px', width='50%'),…"
      ]
     },
     "metadata": {},
     "output_type": "display_data"
    },
    {
     "name": "stdout",
     "output_type": "stream",
     "text": [
      "-RECORD 0---------------------------------------------\n",
      " dataset_name              | devops-stackexchange-com \n",
      " post_id                   | 10                       \n",
      " user_id                   | 15                       \n",
      " n_user_posts              | 0                        \n",
      " n_user_questions          | 0                        \n",
      " n_user_answers            | 0                        \n",
      " user_first_post           | 1                        \n",
      " user_first_question       | 1                        \n",
      " n_user_answered_questions | 0                        \n",
      " n_user_accepted_answers   | 0                        \n",
      " user_score                | 0                        \n",
      " user_question_score       | 0                        \n",
      " user_answer_score         | 0                        \n",
      "only showing top 1 row"
     ]
    }
   ],
   "source": [
    "# user history\n",
    "spark.sql(f\"\"\"drop table if exists {database_name}.user_history\"\"\")\n",
    "\n",
    "spark.sql(f\"\"\"\n",
    "create table {database_name}.user_history \n",
    "using parquet\n",
    "as\n",
    "select \n",
    "    p.dataset_name,\n",
    "    p.id as post_id,    \n",
    "    p.owner_user_id as user_id,\n",
    "    \n",
    "    count(p2.id) as n_user_posts,\n",
    "    count(case when p2.post_type_id = 1 then p2.id end) as n_user_questions,\n",
    "    count(case when p2.post_type_id = 2 then p2.id end) as n_user_answers,\n",
    "    case when count(p2.id) = 0 then 1 else 0 end as user_first_post,\n",
    "    case when count(case when p2.post_type_id = 1 then p2.id end) = 0 then 1 else 0 end as user_first_question,\n",
    "    \n",
    "    count(case when p2.answer_count > 0 then p2.id end) as n_user_answered_questions,\n",
    "    count(case when p2.accepted_answer_id is not null then p2.id end) as n_user_accepted_answers,\n",
    "    \n",
    "    coalesce(sum(p2.score), 0) as user_score,\n",
    "    coalesce(sum(case when p2.post_type_id = 1 then p2.score end), 0) as user_question_score,\n",
    "    coalesce(sum(case when p2.post_type_id = 2 then p2.score end), 0) as user_answer_score\n",
    "from posts p\n",
    "left join posts p2\n",
    "    on p.owner_user_id = p2.owner_user_id\n",
    "    and p.dataset_name = p2.dataset_name\n",
    "    and p2.creation_date < p.creation_date\n",
    "where p.post_type_id = 1\n",
    "group by\n",
    "    p.dataset_name,\n",
    "    p.id,    \n",
    "    p.owner_user_id\n",
    "\"\"\")\n",
    "\n",
    "spark.sql(f\"\"\"select * from {database_name}.user_history\"\"\").show(1, vertical=True, truncate=False)"
   ]
  },
  {
   "cell_type": "code",
   "execution_count": 10,
   "metadata": {
    "scrolled": true
   },
   "outputs": [
    {
     "data": {
      "application/vnd.jupyter.widget-view+json": {
       "model_id": "9912897ed5a344699d510f1984c25d0f",
       "version_major": 2,
       "version_minor": 0
      },
      "text/plain": [
       "VBox()"
      ]
     },
     "metadata": {},
     "output_type": "display_data"
    },
    {
     "data": {
      "application/vnd.jupyter.widget-view+json": {
       "model_id": "",
       "version_major": 2,
       "version_minor": 0
      },
      "text/plain": [
       "FloatProgress(value=0.0, bar_style='info', description='Progress:', layout=Layout(height='25px', width='50%'),…"
      ]
     },
     "metadata": {},
     "output_type": "display_data"
    },
    {
     "name": "stdout",
     "output_type": "stream",
     "text": [
      "-RECORD 0--------------------------------------\n",
      " dataset_name         | unix-stackexchange-com \n",
      " post_id              | 108202                 \n",
      " n_tag_posts_max      | 5425                   \n",
      " n_tag_posts_max_30d  | 189                    \n",
      " n_tag_posts_max_365d | 2261                   \n",
      " n_tag_posts_avg      | 1445.0                 \n",
      " n_tag_posts_avg_30d  | 49.75                  \n",
      " n_tag_posts_avg_365d | 607.75                 \n",
      "only showing top 1 row"
     ]
    }
   ],
   "source": [
    "# tags\n",
    "spark.sql(f\"\"\"drop table if exists {database_name}.tags\"\"\")\n",
    "\n",
    "spark.sql(f\"\"\"\n",
    "create table {database_name}.tags \n",
    "using parquet\n",
    "as\n",
    "select\n",
    "    dataset_name, \n",
    "    post_id,\n",
    "    max(n_tag_posts) as n_tag_posts_max,\n",
    "    max(n_tag_posts_30d) as n_tag_posts_max_30d,\n",
    "    max(n_tag_posts_365d) as n_tag_posts_max_365d,\n",
    "    avg(n_tag_posts) as n_tag_posts_avg,\n",
    "    avg(n_tag_posts_30d) as n_tag_posts_avg_30d,\n",
    "    avg(n_tag_posts_365d) as n_tag_posts_avg_365d\n",
    "    from (\n",
    "select \n",
    "    p.dataset_name,\n",
    "    p.id as post_id,  \n",
    "    p.tag,\n",
    "    count(p2.tag) as n_tag_posts,\n",
    "    count(case when datediff(p.creation_date, p2.creation_date) < 30 then p2.tag end) as n_tag_posts_30d,\n",
    "    count(case when datediff(p.creation_date, p2.creation_date) < 365 then p2.tag end) as n_tag_posts_365d\n",
    "from (select p.id, p.dataset_name, p.creation_date, explode(p.tags) as tag from posts p where p.post_type_id = 1) p\n",
    "left join (select p.id, p.dataset_name, p.creation_date, explode(p.tags) as tag from posts p where p.post_type_id = 1) p2\n",
    "    on p.tag = p2.tag\n",
    "    and p.dataset_name = p2.dataset_name\n",
    "    and p2.creation_date < p.creation_date\n",
    "group by\n",
    "    p.dataset_name,\n",
    "    p.id,  \n",
    "    p.tag\n",
    "    )\n",
    "    group by\n",
    "        dataset_name, post_id\n",
    "\"\"\")\n",
    "\n",
    "spark.sql(f\"\"\"select * from {database_name}.tags\"\"\").show(1, vertical=True, truncate=False)"
   ]
  },
  {
   "cell_type": "code",
   "execution_count": 11,
   "metadata": {},
   "outputs": [
    {
     "data": {
      "application/vnd.jupyter.widget-view+json": {
       "model_id": "23df4039e766497e8c81406924a00438",
       "version_major": 2,
       "version_minor": 0
      },
      "text/plain": [
       "VBox()"
      ]
     },
     "metadata": {},
     "output_type": "display_data"
    },
    {
     "data": {
      "application/vnd.jupyter.widget-view+json": {
       "model_id": "",
       "version_major": 2,
       "version_minor": 0
      },
      "text/plain": [
       "FloatProgress(value=0.0, bar_style='info', description='Progress:', layout=Layout(height='25px', width='50%'),…"
      ]
     },
     "metadata": {},
     "output_type": "display_data"
    },
    {
     "name": "stdout",
     "output_type": "stream",
     "text": [
      "+-------------+---------+----------+-------+-----------+---------+\n",
      "| dataset_name|post_year|post_month|n_posts|n_questions|n_answers|\n",
      "+-------------+---------+----------+-------+-----------+---------+\n",
      "|askubuntu-com|     2012|         5|  11147|       4265|     6642|\n",
      "|askubuntu-com|     2014|         4|  10430|       4459|     5857|\n",
      "|askubuntu-com|     2014|         5|  10077|       4261|     5788|\n",
      "|askubuntu-com|     2013|        10|   9787|       4068|     5613|\n",
      "|askubuntu-com|     2012|         6|   9721|       3735|     5912|\n",
      "|askubuntu-com|     2014|         1|   9416|       3707|     5683|\n",
      "|askubuntu-com|     2012|        10|   9366|       3706|     5554|\n",
      "|askubuntu-com|     2016|         5|   9312|       4053|     5229|\n",
      "|askubuntu-com|     2020|         5|   9158|       5278|     3872|\n",
      "|askubuntu-com|     2012|        11|   9010|       3629|     5327|\n",
      "+-------------+---------+----------+-------+-----------+---------+\n",
      "only showing top 10 rows"
     ]
    }
   ],
   "source": [
    "# forum size\n",
    "spark.sql(f\"\"\"drop table if exists {database_name}.forums\"\"\")\n",
    "\n",
    "spark.sql(f\"\"\"\n",
    "create table {database_name}.forums \n",
    "using parquet\n",
    "as\n",
    "    select p.dataset_name, \n",
    "    year(p.creation_date) as post_year, \n",
    "    month(p.creation_date) as post_month,\n",
    "    count(*) as n_posts,\n",
    "    count(case when post_type_id = 1 then 1 end) as n_questions,\n",
    "    count(case when post_type_id = 2 then 1 end) as n_answers\n",
    "    from posts p\n",
    "    group by p.dataset_name, year(p.creation_date), month(p.creation_date)\n",
    "\"\"\")\n",
    "\n",
    "spark.sql(f\"\"\"select * from {database_name}.forums order by n_posts desc\"\"\").show(10)"
   ]
  },
  {
   "cell_type": "code",
   "execution_count": 12,
   "metadata": {
    "scrolled": true
   },
   "outputs": [
    {
     "data": {
      "application/vnd.jupyter.widget-view+json": {
       "model_id": "402b5bcf21c74d5b826f96955a22eb7a",
       "version_major": 2,
       "version_minor": 0
      },
      "text/plain": [
       "VBox()"
      ]
     },
     "metadata": {},
     "output_type": "display_data"
    },
    {
     "data": {
      "application/vnd.jupyter.widget-view+json": {
       "model_id": "",
       "version_major": 2,
       "version_minor": 0
      },
      "text/plain": [
       "FloatProgress(value=0.0, bar_style='info', description='Progress:', layout=Layout(height='25px', width='50%'),…"
      ]
     },
     "metadata": {},
     "output_type": "display_data"
    },
    {
     "name": "stdout",
     "output_type": "stream",
     "text": [
      "-RECORD 0---------------------------------\n",
      " dataset_name             | askubuntu-com \n",
      " post_id                  | 223340        \n",
      " user_id                  | 111487        \n",
      " n_answers                | 1             \n",
      " n_answers_1d             | 0             \n",
      " n_answers_30d            | 1             \n",
      " answered_flag            | 1             \n",
      " answered_1d_flag         | 0             \n",
      " answered_7d_flag         | 0             \n",
      " answered_14d_flag        | 1             \n",
      " answered_30d_flag        | 1             \n",
      " answer_max_score         | 2             \n",
      " answer_max_score_1d      | 0             \n",
      " answer_max_score_30d     | 1             \n",
      " answer_accepted_flag     | 0             \n",
      " answer_accepted_1d_flag  | 0             \n",
      " answer_accepted_7d_flag  | 0             \n",
      " answer_accepted_14d_flag | 0             \n",
      " answer_accepted_30d_flag | 0             \n",
      "only showing top 1 row"
     ]
    }
   ],
   "source": [
    "# answer parameters\n",
    "spark.sql(f\"\"\"drop table if exists {database_name}.answers\"\"\")\n",
    "\n",
    "spark.sql(f\"\"\"\n",
    "create table {database_name}.answers \n",
    "using parquet\n",
    "as\n",
    "select\n",
    "    dataset_name,\n",
    "    post_id,\n",
    "    user_id,\n",
    "    count(answer_id) as n_answers,\n",
    "    count(case when datediff(answer_datetime, post_datetime) < 1 then answer_id end) as n_answers_1d,\n",
    "    count(case when datediff(answer_datetime, post_datetime) < 30 then answer_id end) as n_answers_30d,\n",
    "    max(case when answer_id is not null then 1 else 0 end) as answered_flag,\n",
    "    max(case when datediff(answer_datetime, post_datetime) < 1 then 1 else 0 end) as answered_1d_flag,\n",
    "    max(case when datediff(answer_datetime, post_datetime) < 7 then 1 else 0 end) as answered_7d_flag,\n",
    "    max(case when datediff(answer_datetime, post_datetime) < 14 then 1 else 0 end) as answered_14d_flag,\n",
    "    max(case when datediff(answer_datetime, post_datetime) < 30 then 1 else 0 end) as answered_30d_flag,\n",
    "    max(answer_score) as answer_max_score,\n",
    "    max(answer_score_1d) as answer_max_score_1d,\n",
    "    max(answer_score_30d) as answer_max_score_30d,\n",
    "    max(answer_accepted_flag) as answer_accepted_flag,\n",
    "    max(answer_accepted_1d_flag) as answer_accepted_1d_flag,\n",
    "    max(answer_accepted_7d_flag) as answer_accepted_7d_flag,\n",
    "    max(answer_accepted_14d_flag) as answer_accepted_14d_flag,\n",
    "    max(answer_accepted_30d_flag) as answer_accepted_30d_flag\n",
    "    from (\n",
    "select \n",
    "    p.dataset_name,\n",
    "    p.id as post_id,    \n",
    "    p.owner_user_id as user_id,\n",
    "    p.creation_date as post_datetime,\n",
    "    \n",
    "    a.id as answer_id,\n",
    "    a.creation_date as answer_datetime,\n",
    "    max(case when va.vote_type_id = 1 then 1 else 0 end) as answer_accepted_flag,\n",
    "    max(case when va.vote_type_id = 1 and datediff(va.creation_date, p.creation_date) < 1 then 1 else 0 end) as answer_accepted_1d_flag,\n",
    "    max(case when va.vote_type_id = 1 and datediff(va.creation_date, p.creation_date) < 7 then 1 else 0 end) as answer_accepted_7d_flag,\n",
    "        max(case when va.vote_type_id = 1 and datediff(va.creation_date, p.creation_date) < 14 then 1 else 0 end) as answer_accepted_14d_flag,\n",
    "    max(case when va.vote_type_id = 1 and datediff(va.creation_date, p.creation_date) < 30 then 1 else 0 end) as answer_accepted_30d_flag,\n",
    "    \n",
    "    coalesce(a.score, 0) as answer_score,\n",
    "    count(case when va.vote_type_id = 2 and datediff(va.creation_date, p.creation_date) < 1 then 1 end) -\n",
    "    count(case when va.vote_type_id = 3 and datediff(va.creation_date, p.creation_date) < 1 then 1 end) as answer_score_1d,\n",
    "    count(case when va.vote_type_id = 2 and datediff(va.creation_date, p.creation_date) < 30 then 1 end) -\n",
    "    count(case when va.vote_type_id = 3 and datediff(va.creation_date, p.creation_date) < 30 then 1 end) as answer_score_30d\n",
    "from posts p\n",
    "left join posts a\n",
    "    on p.id = a.parent_id\n",
    "    and p.dataset_name = a.dataset_name\n",
    "    and a.post_type_id = 2\n",
    "left join votes va\n",
    "    on va.post_id = a.id\n",
    "    and va.dataset_name = a.dataset_name\n",
    "    and va.vote_type_id in (1, 2, 3)\n",
    "where p.post_type_id = 1\n",
    "and ((a.owner_user_id != p.owner_user_id) or a.owner_user_id is null)\n",
    "group by\n",
    "    p.dataset_name,\n",
    "    p.id,\n",
    "    p.owner_user_id,\n",
    "    p.creation_date,\n",
    "    a.id,\n",
    "    a.creation_date,\n",
    "    a.score\n",
    "    ) group by dataset_name, post_id, user_id\n",
    "\"\"\")\n",
    "\n",
    "spark.sql(f\"\"\"select * from {database_name}.answers\"\"\").show(1, vertical=True, truncate=False)"
   ]
  },
  {
   "cell_type": "code",
   "execution_count": 13,
   "metadata": {
    "scrolled": true
   },
   "outputs": [
    {
     "data": {
      "application/vnd.jupyter.widget-view+json": {
       "model_id": "650392c8ead346edb0fd38831b762682",
       "version_major": 2,
       "version_minor": 0
      },
      "text/plain": [
       "VBox()"
      ]
     },
     "metadata": {},
     "output_type": "display_data"
    },
    {
     "data": {
      "application/vnd.jupyter.widget-view+json": {
       "model_id": "",
       "version_major": 2,
       "version_minor": 0
      },
      "text/plain": [
       "FloatProgress(value=0.0, bar_style='info', description='Progress:', layout=Layout(height='25px', width='50%'),…"
      ]
     },
     "metadata": {},
     "output_type": "display_data"
    },
    {
     "name": "stdout",
     "output_type": "stream",
     "text": [
      "DataFrame[]"
     ]
    }
   ],
   "source": [
    "# final dataset\n",
    "spark.sql(f\"\"\"use {database_name}\"\"\")\n",
    "\n",
    "spark.sql(\"\"\"\n",
    "drop table if exists training_data\n",
    "\"\"\")\n",
    "\n",
    "spark.sql(f\"\"\"\n",
    "create table training_data\n",
    "using parquet\n",
    "as\n",
    "select\n",
    "    -- features\n",
    "    q.dataset_name,\n",
    "    fs.n_posts as dataset_n_posts,\n",
    "    fs.n_questions as dataset_n_questions,\n",
    "    fs.n_answers as dataset_n_answers,\n",
    "    q.post_id,\n",
    "    q.post_datetime,\n",
    "    q.post_hour,\n",
    "    q.post_dayofweek,\n",
    "    q.post_month,\n",
    "    q.post_year,\n",
    "    q.body as post_body,\n",
    "    q.body_n_characters as post_body_char_count,\n",
    "    q.body_nocode_n_characters as post_body_nocode_char_count,\n",
    "    q.body_code_perc as post_body_code_perc,\n",
    "    q.body_code_flag as post_body_code_flag,\n",
    "    q.body_image_flag as post_body_image_flag,\n",
    "    q.body_link_flag as post_body_link_flag,\n",
    "    q.body_bold_flag as post_body_bold_flag,\n",
    "    q.title as post_title,\n",
    "    q.title_upper_flag as post_title_upper_flag,\n",
    "    q.title_question_flag as post_title_question_flag,\n",
    "    q.title_n_characters as post_title_char_count,\n",
    "    q.tags as post_tags,\n",
    "    q.n_tags as post_tag_count,\n",
    "    q2.body_nocode_n_sentences as post_body_sent_count,\n",
    "    q2.body_nocode_n_words as post_body_word_count,\n",
    "    q2.title_n_words as post_title_word_count,\n",
    "    t.n_tag_posts_max as tag_post_count_max,\n",
    "    t.n_tag_posts_max_30d as tag_post_count_30d_max,\n",
    "    t.n_tag_posts_max_365d as tag_post_count_365d_max,\n",
    "    t.n_tag_posts_avg as tag_post_count_avg,\n",
    "    t.n_tag_posts_avg_30d as tag_post_count_30d_avg,\n",
    "    t.n_tag_posts_avg_365d as tag_post_count_365d_avg,\n",
    "    us.user_id,\n",
    "    us.user_age_days,\n",
    "    us.user_age_months,\n",
    "    us.user_website_flag,\n",
    "    us.user_location_flag,\n",
    "    us.user_about_me_flag,\n",
    "    us.n_badges as user_badge_count,\n",
    "    us.n_badges_class_1 as user_badge_1_count,\n",
    "    us.n_badges_class_2 as user_badge_2_count,\n",
    "    us.n_badges_class_3 as user_badge_3_count,\n",
    "    uh.n_user_posts as user_post_count,\n",
    "    uh.n_user_questions as user_question_count,\n",
    "    uh.n_user_answers as user_answer_count,\n",
    "    uh.user_first_post as user_first_post_flag,\n",
    "    uh.user_first_question as user_first_question_flag,\n",
    "    uh.n_user_answered_questions as user_answered_questions_count,\n",
    "    uh.n_user_accepted_answers as user_accepted_answers_count,\n",
    "    uh.user_score,\n",
    "    uh.user_question_score,\n",
    "    uh.user_answer_score,\n",
    "    -- target\n",
    "    q.post_closed_flag,\n",
    "    q.post_score,\n",
    "    q.post_score_1d,\n",
    "    q.post_score_30d,\n",
    "    a.n_answers as answer_count,\n",
    "    a.n_answers_1d as answer_1d_count,\n",
    "    a.n_answers_30d as answer_30d_count,\n",
    "    a.answered_flag as answer_flag,\n",
    "    a.answered_1d_flag as answer_1d_flag,\n",
    "    a.answered_7d_flag as answer_7d_flag,\n",
    "    a.answered_14d_flag as answer_14d_flag,\n",
    "    a.answered_30d_flag as answer_30d_flag,\n",
    "    a.answer_max_score,\n",
    "    a.answer_max_score_1d,\n",
    "    a.answer_max_score_30d,\n",
    "    a.answer_accepted_flag,\n",
    "    a.answer_accepted_1d_flag,\n",
    "    a.answer_accepted_7d_flag,\n",
    "    a.answer_accepted_14d_flag,\n",
    "    a.answer_accepted_30d_flag\n",
    "from questions q\n",
    "join questions_nlp q2\n",
    "    on q.dataset_name = q2.dataset_name\n",
    "    and q.post_id = q2.post_id\n",
    "join user_status us\n",
    "    on q.dataset_name = us.dataset_name\n",
    "    and q.post_id = us.post_id\n",
    "join user_history uh\n",
    "    on q.dataset_name = uh.dataset_name\n",
    "    and q.post_id = uh.post_id\n",
    "join tags t\n",
    "    on q.dataset_name = t.dataset_name\n",
    "    and q.post_id = t.post_id\n",
    "join answers a\n",
    "    on q.dataset_name = a.dataset_name\n",
    "    and q.post_id = a.post_id\n",
    "join forums fs\n",
    "    on q.dataset_name = fs.dataset_name\n",
    "    and q.post_year = fs.post_year\n",
    "    and q.post_month = fs.post_month\n",
    "where q.body_n_characters > 0\n",
    "\"\"\")"
   ]
  },
  {
   "cell_type": "code",
   "execution_count": 14,
   "metadata": {
    "scrolled": true
   },
   "outputs": [
    {
     "data": {
      "application/vnd.jupyter.widget-view+json": {
       "model_id": "bd94f2b44b924d89a50fe987f8217f46",
       "version_major": 2,
       "version_minor": 0
      },
      "text/plain": [
       "VBox()"
      ]
     },
     "metadata": {},
     "output_type": "display_data"
    },
    {
     "data": {
      "application/vnd.jupyter.widget-view+json": {
       "model_id": "",
       "version_major": 2,
       "version_minor": 0
      },
      "text/plain": [
       "FloatProgress(value=0.0, bar_style='info', description='Progress:', layout=Layout(height='25px', width='50%'),…"
      ]
     },
     "metadata": {},
     "output_type": "display_data"
    },
    {
     "name": "stdout",
     "output_type": "stream",
     "text": [
      "-RECORD 0-------------------------------------------------------------------------------------------------------------------------------------------------------------------------------------------\n",
      " dataset_name                  | android-stackexchange-com                                                                                                                                          \n",
      " dataset_n_posts               | 905                                                                                                                                                                \n",
      " dataset_n_questions           | 327                                                                                                                                                                \n",
      " dataset_n_answers             | 578                                                                                                                                                                \n",
      " post_id                       | 1                                                                                                                                                                  \n",
      " post_datetime                 | 2010-09-13 19:16:26.763                                                                                                                                            \n",
      " post_hour                     | 19                                                                                                                                                                 \n",
      " post_dayofweek                | 2                                                                                                                                                                  \n",
      " post_month                    | 9                                                                                                                                                                  \n",
      " post_year                     | 2010                                                                                                                                                               \n",
      " post_body                     | <p>This is a common question by those who have just rooted their phones.  What apps, ROMs, benefits, etc. do I get from rooting?  What should I be doing now?</p>\n",
      " \n",
      " post_body_char_count          | 152                                                                                                                                                                \n",
      " post_body_nocode_char_count   | 152                                                                                                                                                                \n",
      " post_body_code_perc           | 0.0                                                                                                                                                                \n",
      " post_body_code_flag           | 0                                                                                                                                                                  \n",
      " post_body_image_flag          | 0                                                                                                                                                                  \n",
      " post_body_link_flag           | 0                                                                                                                                                                  \n",
      " post_body_bold_flag           | 0                                                                                                                                                                  \n",
      " post_title                    | I've rooted my phone.  Now what?  What do I gain from rooting?                                                                                                     \n",
      " post_title_upper_flag         | 1                                                                                                                                                                  \n",
      " post_title_question_flag      | 1                                                                                                                                                                  \n",
      " post_title_char_count         | 62                                                                                                                                                                 \n",
      " post_tags                     | [rooting, root-access]                                                                                                                                             \n",
      " post_tag_count                | 2                                                                                                                                                                  \n",
      " post_body_sent_count          | 4                                                                                                                                                                  \n",
      " post_body_word_count          | 29                                                                                                                                                                 \n",
      " post_title_word_count         | 13                                                                                                                                                                 \n",
      " tag_post_count_max            | 6                                                                                                                                                                  \n",
      " tag_post_count_30d_max        | 2                                                                                                                                                                  \n",
      " tag_post_count_365d_max       | 5                                                                                                                                                                  \n",
      " tag_post_count_avg            | 3.0                                                                                                                                                                \n",
      " tag_post_count_30d_avg        | 1.0                                                                                                                                                                \n",
      " tag_post_count_365d_avg       | 2.5                                                                                                                                                                \n",
      " user_id                       | 10                                                                                                                                                                 \n",
      " user_age_days                 | 0                                                                                                                                                                  \n",
      " user_age_months               | 0.0                                                                                                                                                                \n",
      " user_website_flag             | 1                                                                                                                                                                  \n",
      " user_location_flag            | 1                                                                                                                                                                  \n",
      " user_about_me_flag            | 1                                                                                                                                                                  \n",
      " user_badge_count              | 0                                                                                                                                                                  \n",
      " user_badge_1_count            | 0                                                                                                                                                                  \n",
      " user_badge_2_count            | 0                                                                                                                                                                  \n",
      " user_badge_3_count            | 0                                                                                                                                                                  \n",
      " user_post_count               | 5                                                                                                                                                                  \n",
      " user_question_count           | 1                                                                                                                                                                  \n",
      " user_answer_count             | 4                                                                                                                                                                  \n",
      " user_first_post_flag          | 0                                                                                                                                                                  \n",
      " user_first_question_flag      | 0                                                                                                                                                                  \n",
      " user_answered_questions_count | 1                                                                                                                                                                  \n",
      " user_accepted_answers_count   | 1                                                                                                                                                                  \n",
      " user_score                    | 25                                                                                                                                                                 \n",
      " user_question_score           | 4                                                                                                                                                                  \n",
      " user_answer_score             | 21                                                                                                                                                                 \n",
      " post_closed_flag              | 0                                                                                                                                                                  \n",
      " post_score                    | 308                                                                                                                                                                \n",
      " post_score_1d                 | 7                                                                                                                                                                  \n",
      " post_score_30d                | 15                                                                                                                                                                 \n",
      " answer_count                  | 2                                                                                                                                                                  \n",
      " answer_1d_count               | 0                                                                                                                                                                  \n",
      " answer_30d_count              | 0                                                                                                                                                                  \n",
      " answer_flag                   | 1                                                                                                                                                                  \n",
      " answer_1d_flag                | 0                                                                                                                                                                  \n",
      " answer_7d_flag                | 0                                                                                                                                                                  \n",
      " answer_14d_flag               | 0                                                                                                                                                                  \n",
      " answer_30d_flag               | 0                                                                                                                                                                  \n",
      " answer_max_score              | 50                                                                                                                                                                 \n",
      " answer_max_score_1d           | 0                                                                                                                                                                  \n",
      " answer_max_score_30d          | 0                                                                                                                                                                  \n",
      " answer_accepted_flag          | 0                                                                                                                                                                  \n",
      " answer_accepted_1d_flag       | 0                                                                                                                                                                  \n",
      " answer_accepted_7d_flag       | 0                                                                                                                                                                  \n",
      " answer_accepted_14d_flag      | 0                                                                                                                                                                  \n",
      " answer_accepted_30d_flag      | 0                                                                                                                                                                  \n",
      "only showing top 1 row"
     ]
    }
   ],
   "source": [
    "spark.sql(\"\"\"\n",
    "select * from training_data\n",
    "\"\"\").show(1, vertical=True, truncate=False)"
   ]
  }
 ],
 "metadata": {
  "kernelspec": {
   "display_name": "PySpark",
   "language": "",
   "name": "pysparkkernel"
  },
  "language_info": {
   "codemirror_mode": {
    "name": "python",
    "version": 3
   },
   "mimetype": "text/x-python",
   "name": "pyspark",
   "pygments_lexer": "python3"
  }
 },
 "nbformat": 4,
 "nbformat_minor": 4
}
