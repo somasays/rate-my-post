{
 "cells": [
  {
   "cell_type": "code",
   "execution_count": 1,
   "metadata": {},
   "outputs": [
    {
     "data": {
      "text/html": [
       "Current session configs: <tt>{'conf': {'spark.jars.packages': 'ml.combust.mleap:mleap-spark_2.11:0.16.0'}, 'kind': 'pyspark'}</tt><br>"
      ],
      "text/plain": [
       "<IPython.core.display.HTML object>"
      ]
     },
     "metadata": {},
     "output_type": "display_data"
    },
    {
     "data": {
      "text/html": [
       "No active sessions."
      ],
      "text/plain": [
       "<IPython.core.display.HTML object>"
      ]
     },
     "metadata": {},
     "output_type": "display_data"
    }
   ],
   "source": [
    "%%configure -f\n",
    "{\n",
    "   \"conf\":{\n",
    "      \"spark.jars.packages\":\"ml.combust.mleap:mleap-spark_2.11:0.16.0\"\n",
    "   }\n",
    "}"
   ]
  },
  {
   "cell_type": "code",
   "execution_count": 2,
   "metadata": {},
   "outputs": [
    {
     "data": {
      "application/vnd.jupyter.widget-view+json": {
       "model_id": "6a12618cfd654c48b2385a47f3c15da0",
       "version_major": 2,
       "version_minor": 0
      },
      "text/plain": [
       "VBox()"
      ]
     },
     "metadata": {},
     "output_type": "display_data"
    },
    {
     "name": "stdout",
     "output_type": "stream",
     "text": [
      "Starting Spark application\n"
     ]
    },
    {
     "data": {
      "text/html": [
       "<table>\n",
       "<tr><th>ID</th><th>YARN Application ID</th><th>Kind</th><th>State</th><th>Spark UI</th><th>Driver log</th><th>Current session?</th></tr><tr><td>4</td><td>application_1609708034480_0005</td><td>pyspark</td><td>idle</td><td><a target=\"_blank\" href=\"http://ip-172-31-85-156.ec2.internal:20888/proxy/application_1609708034480_0005/\" >Link</a></td><td><a target=\"_blank\" href=\"http://ip-172-31-80-150.ec2.internal:8042/node/containerlogs/container_1609708034480_0005_01_000001/livy\" >Link</a></td><td>✔</td></tr></table>"
      ],
      "text/plain": [
       "<IPython.core.display.HTML object>"
      ]
     },
     "metadata": {},
     "output_type": "display_data"
    },
    {
     "data": {
      "application/vnd.jupyter.widget-view+json": {
       "model_id": "",
       "version_major": 2,
       "version_minor": 0
      },
      "text/plain": [
       "FloatProgress(value=0.0, bar_style='info', description='Progress:', layout=Layout(height='25px', width='50%'),…"
      ]
     },
     "metadata": {},
     "output_type": "display_data"
    },
    {
     "name": "stdout",
     "output_type": "stream",
     "text": [
      "SparkSession available as 'spark'.\n"
     ]
    },
    {
     "data": {
      "application/vnd.jupyter.widget-view+json": {
       "model_id": "",
       "version_major": 2,
       "version_minor": 0
      },
      "text/plain": [
       "FloatProgress(value=0.0, bar_style='info', description='Progress:', layout=Layout(height='25px', width='50%'),…"
      ]
     },
     "metadata": {},
     "output_type": "display_data"
    }
   ],
   "source": [
    "import pyspark.sql.functions as f\n",
    "from pyspark.sql.types import *\n",
    "from pyspark.ml import Pipeline\n",
    "from pyspark.ml.classification import GBTClassifier, RandomForestClassifier\n",
    "from pyspark.ml.feature import StringIndexer, VectorIndexer, OneHotEncoderEstimator, VectorAssembler\n",
    "from pyspark.ml.evaluation import MulticlassClassificationEvaluator, BinaryClassificationEvaluator\n",
    "from pyspark.ml.tuning import CrossValidator, ParamGridBuilder\n",
    "from pyspark.mllib.evaluation import MulticlassMetrics\n",
    "\n",
    "import pandas as pd\n",
    "pd.set_option('display.max_rows', 500)\n",
    "pd.set_option('display.float_format', '{:0.3f}'.format)\n",
    "\n",
    "import zipfile\n",
    "import tarfile\n",
    "import os\n",
    "import json\n",
    "from pprint import pprint\n",
    "\n",
    "import sagemaker\n",
    "from sagemaker import get_execution_role\n",
    "from sagemaker.sparkml.model import SparkMLModel\n",
    "import boto3\n",
    "from mleap.pyspark.spark_support import SimpleSparkSerializer"
   ]
  },
  {
   "cell_type": "code",
   "execution_count": 3,
   "metadata": {},
   "outputs": [
    {
     "data": {
      "application/vnd.jupyter.widget-view+json": {
       "model_id": "6199ca73c8ae45f89dc696836da1166c",
       "version_major": 2,
       "version_minor": 0
      },
      "text/plain": [
       "VBox()"
      ]
     },
     "metadata": {},
     "output_type": "display_data"
    },
    {
     "data": {
      "application/vnd.jupyter.widget-view+json": {
       "model_id": "",
       "version_major": 2,
       "version_minor": 0
      },
      "text/plain": [
       "FloatProgress(value=0.0, bar_style='info', description='Progress:', layout=Layout(height='25px', width='50%'),…"
      ]
     },
     "metadata": {},
     "output_type": "display_data"
    }
   ],
   "source": [
    "# Load training data\n",
    "df = spark.sql(\"select * from training.training_data\")"
   ]
  },
  {
   "cell_type": "code",
   "execution_count": 4,
   "metadata": {},
   "outputs": [
    {
     "data": {
      "application/vnd.jupyter.widget-view+json": {
       "model_id": "97766aa66d644b1eb9ff83eb8c560e13",
       "version_major": 2,
       "version_minor": 0
      },
      "text/plain": [
       "VBox()"
      ]
     },
     "metadata": {},
     "output_type": "display_data"
    },
    {
     "data": {
      "application/vnd.jupyter.widget-view+json": {
       "model_id": "",
       "version_major": 2,
       "version_minor": 0
      },
      "text/plain": [
       "FloatProgress(value=0.0, bar_style='info', description='Progress:', layout=Layout(height='25px', width='50%'),…"
      ]
     },
     "metadata": {},
     "output_type": "display_data"
    },
    {
     "name": "stdout",
     "output_type": "stream",
     "text": [
      "True"
     ]
    }
   ],
   "source": [
    "# check NA\n",
    "df.select([f.count(f.when(f.isnan(c[0]) | f.isnull(c[0]), c[0])).alias(c[0]) for c in df.dtypes if not c[1] in (\"string\", \"timestamp\", \"array<string>\")])\\\n",
    ".toPandas().transpose().sum().sum() == 0"
   ]
  },
  {
   "cell_type": "code",
   "execution_count": 5,
   "metadata": {
    "scrolled": false
   },
   "outputs": [
    {
     "data": {
      "application/vnd.jupyter.widget-view+json": {
       "model_id": "4f6e7e8f79e446449e60df38ea809f4a",
       "version_major": 2,
       "version_minor": 0
      },
      "text/plain": [
       "VBox()"
      ]
     },
     "metadata": {},
     "output_type": "display_data"
    },
    {
     "data": {
      "application/vnd.jupyter.widget-view+json": {
       "model_id": "",
       "version_major": 2,
       "version_minor": 0
      },
      "text/plain": [
       "FloatProgress(value=0.0, bar_style='info', description='Progress:', layout=Layout(height='25px', width='50%'),…"
      ]
     },
     "metadata": {},
     "output_type": "display_data"
    },
    {
     "name": "stdout",
     "output_type": "stream",
     "text": [
      "+----------------------------+----------------------------+-----------------------------+-----------------------------+-------------------------+\n",
      "|avg(answer_accepted_1d_flag)|avg(answer_accepted_7d_flag)|avg(answer_accepted_14d_flag)|avg(answer_accepted_30d_flag)|avg(answer_accepted_flag)|\n",
      "+----------------------------+----------------------------+-----------------------------+-----------------------------+-------------------------+\n",
      "|         0.14489200888418927|         0.28837452992207835|           0.3083902121153894|           0.3227118498424023|      0.37565655757954775|\n",
      "+----------------------------+----------------------------+-----------------------------+-----------------------------+-------------------------+\n",
      "\n",
      "+-------------------+-------------------+--------------------+--------------------+------------------+\n",
      "|avg(answer_1d_flag)|avg(answer_7d_flag)|avg(answer_14d_flag)|avg(answer_30d_flag)|  avg(answer_flag)|\n",
      "+-------------------+-------------------+--------------------+--------------------+------------------+\n",
      "| 0.5677371693044339| 0.6928402552593231|  0.7079424222424582|  0.7222031930091313|0.7951182310867856|\n",
      "+-------------------+-------------------+--------------------+--------------------+------------------+\n",
      "\n",
      "+---------------------+\n",
      "|avg(post_closed_flag)|\n",
      "+---------------------+\n",
      "|  0.10636560992871405|\n",
      "+---------------------+"
     ]
    }
   ],
   "source": [
    "# Potential target variables\n",
    "df.agg(\n",
    "      f.mean((\"answer_accepted_1d_flag\")),\n",
    "      f.mean((\"answer_accepted_7d_flag\")),\n",
    "      f.mean((\"answer_accepted_14d_flag\")),\n",
    "      f.mean((\"answer_accepted_30d_flag\")),\n",
    "      f.mean((\"answer_accepted_flag\"))).show()\n",
    "\n",
    "df.agg(\n",
    "      f.mean((\"answer_1d_flag\")),\n",
    "      f.mean((\"answer_7d_flag\")),\n",
    "      f.mean((\"answer_14d_flag\")),\n",
    "      f.mean((\"answer_30d_flag\")),\n",
    "      f.mean((\"answer_flag\")),).show()\n",
    "\n",
    "df.agg(f.mean((\"post_closed_flag\"))).show()"
   ]
  },
  {
   "cell_type": "code",
   "execution_count": 6,
   "metadata": {
    "scrolled": true
   },
   "outputs": [
    {
     "data": {
      "application/vnd.jupyter.widget-view+json": {
       "model_id": "041ccc5edfbb4f8182f9127709455927",
       "version_major": 2,
       "version_minor": 0
      },
      "text/plain": [
       "VBox()"
      ]
     },
     "metadata": {},
     "output_type": "display_data"
    },
    {
     "data": {
      "application/vnd.jupyter.widget-view+json": {
       "model_id": "",
       "version_major": 2,
       "version_minor": 0
      },
      "text/plain": [
       "FloatProgress(value=0.0, bar_style='info', description='Progress:', layout=Layout(height='25px', width='50%'),…"
      ]
     },
     "metadata": {},
     "output_type": "display_data"
    },
    {
     "name": "stdout",
     "output_type": "stream",
     "text": [
      "+--------------------+-------------------------+\n",
      "|        dataset_name|avg(answer_accepted_flag)|\n",
      "+--------------------+-------------------------+\n",
      "|cs-stackexchange-com|       0.4482627578718784|\n",
      "|datascience-stack...|       0.3252392907578848|\n",
      "|softwareengineeri...|       0.5755453094520305|\n",
      "|android-stackexch...|      0.24668830241054845|\n",
      "|unix-stackexchang...|      0.44735514678683125|\n",
      "|dba-stackexchange...|      0.46438227050623804|\n",
      "|devops-stackexcha...|       0.3636882671995432|\n",
      "|gamedev-stackexch...|       0.4996215479769036|\n",
      "|       askubuntu-com|       0.2853066188245777|\n",
      "|raspberrypi-stack...|       0.3082882018235415|\n",
      "+--------------------+-------------------------+"
     ]
    }
   ],
   "source": [
    "df.groupBy(\"dataset_name\").agg(f.mean(\"answer_accepted_flag\")).show()"
   ]
  },
  {
   "cell_type": "code",
   "execution_count": 7,
   "metadata": {
    "scrolled": true
   },
   "outputs": [
    {
     "data": {
      "application/vnd.jupyter.widget-view+json": {
       "model_id": "dbdeb8675f9943d2ac5affd091bee32c",
       "version_major": 2,
       "version_minor": 0
      },
      "text/plain": [
       "VBox()"
      ]
     },
     "metadata": {},
     "output_type": "display_data"
    },
    {
     "data": {
      "application/vnd.jupyter.widget-view+json": {
       "model_id": "",
       "version_major": 2,
       "version_minor": 0
      },
      "text/plain": [
       "FloatProgress(value=0.0, bar_style='info', description='Progress:', layout=Layout(height='25px', width='50%'),…"
      ]
     },
     "metadata": {},
     "output_type": "display_data"
    },
    {
     "name": "stdout",
     "output_type": "stream",
     "text": [
      "+--------------------+------------------+\n",
      "|        dataset_name|  avg(answer_flag)|\n",
      "+--------------------+------------------+\n",
      "|cs-stackexchange-com|0.7833876221498371|\n",
      "|datascience-stack...|0.7485093362623568|\n",
      "|softwareengineeri...|0.9534846604007803|\n",
      "|android-stackexch...|0.7246341314065274|\n",
      "|unix-stackexchang...|0.8246236450661913|\n",
      "|dba-stackexchange...|0.8665947367115608|\n",
      "|devops-stackexcha...|0.8321438766771339|\n",
      "|gamedev-stackexch...|0.8586535758309725|\n",
      "|       askubuntu-com| 0.742233687734043|\n",
      "|raspberrypi-stack...|0.7819633920614245|\n",
      "+--------------------+------------------+"
     ]
    }
   ],
   "source": [
    "df.groupBy(\"dataset_name\").agg(f.mean(\"answer_flag\")).show()"
   ]
  },
  {
   "cell_type": "code",
   "execution_count": 8,
   "metadata": {
    "scrolled": false
   },
   "outputs": [
    {
     "data": {
      "application/vnd.jupyter.widget-view+json": {
       "model_id": "547ff2c7037e4073924badcc1d9ee570",
       "version_major": 2,
       "version_minor": 0
      },
      "text/plain": [
       "VBox()"
      ]
     },
     "metadata": {},
     "output_type": "display_data"
    },
    {
     "data": {
      "application/vnd.jupyter.widget-view+json": {
       "model_id": "",
       "version_major": 2,
       "version_minor": 0
      },
      "text/plain": [
       "FloatProgress(value=0.0, bar_style='info', description='Progress:', layout=Layout(height='25px', width='50%'),…"
      ]
     },
     "metadata": {},
     "output_type": "display_data"
    },
    {
     "name": "stdout",
     "output_type": "stream",
     "text": [
      "                                0_mean   1_mean  0_median  1_median\n",
      "answer_accepted_7d_flag          1.000    0.000     1.000     0.000\n",
      "answer_accepted_7d_flag          1.000    0.000     1.000     0.000\n",
      "answer_accepted_7d_flag          1.000    0.000     1.000     0.000\n",
      "answer_accepted_7d_flag          1.000    0.000     1.000     0.000\n",
      "post_body_bold_flag              0.145    0.137     0.000     0.000\n",
      "post_body_char_count           895.109 1022.750   577.000   598.000\n",
      "post_body_code_flag              0.566    0.476     1.000     0.000\n",
      "post_body_code_perc              0.322    0.267     0.119     0.000\n",
      "post_body_image_flag             0.000    0.000     0.000     0.000\n",
      "post_body_link_flag              0.226    0.249     0.000     0.000\n",
      "post_body_nocode_char_count    444.993  506.219   322.000   373.000\n",
      "post_body_sent_count             4.630    5.256     4.000     4.000\n",
      "post_body_word_count            80.791   91.012    59.000    68.000\n",
      "post_dayofweek                   3.991    3.996     4.000     4.000\n",
      "post_hour                       12.778   12.650    13.000    13.000\n",
      "post_month                       6.464    6.500     6.000     6.000\n",
      "post_tag_count                   2.709    2.751     3.000     3.000\n",
      "post_title_char_count           52.924   52.809    50.000    50.000\n",
      "post_title_question_flag         0.403    0.308     0.000     0.000\n",
      "post_title_upper_flag            0.894    0.883     1.000     1.000\n",
      "post_title_word_count            8.975    8.848     8.000     8.000\n",
      "post_year                     2015.356 2015.948  2015.000  2016.000\n",
      "tag_post_count_30d_avg          52.910   61.865    25.667    27.500\n",
      "tag_post_count_30d_max         109.724  132.155    48.000    52.000\n",
      "tag_post_count_365d_avg        557.441  613.960   280.250   301.400\n",
      "tag_post_count_365d_max       1127.731 1259.973   528.000   567.000\n",
      "tag_post_count_avg            2123.520 2288.153   893.000  1032.000\n",
      "tag_post_count_max            4185.284 4452.176  1663.000  1921.000\n",
      "user_about_me_flag               0.487    0.367     0.000     0.000\n",
      "user_accepted_answers_count      6.364    3.580     0.000     0.000\n",
      "user_age_days                  345.049  325.999    73.000    14.000\n",
      "user_age_months                 11.336   10.710     2.396     0.452\n",
      "user_answer_count                8.373    6.567     0.000     0.000\n",
      "user_answer_score               46.749   36.345     0.000     0.000\n",
      "user_answered_questions_count    8.611    5.609     1.000     0.000\n",
      "user_badge_1_count               0.350    0.285     0.000     0.000\n",
      "user_badge_2_count               1.861    1.485     0.000     0.000\n",
      "user_badge_3_count               6.960    5.202     2.000     1.000\n",
      "user_badge_count                 9.172    6.973     2.000     1.000\n",
      "user_first_post_flag             0.404    0.535     0.000     1.000\n",
      "user_first_question_flag         0.432    0.559     0.000     1.000\n",
      "user_location_flag               0.475    0.368     0.000     0.000\n",
      "user_post_count                 17.999   13.057     1.000     0.000\n",
      "user_question_count              9.343    6.266     1.000     0.000\n",
      "user_question_score             62.169   39.255     1.000     0.000\n",
      "user_score                     108.999   75.670     1.000     0.000\n",
      "user_website_flag                0.372    0.289     0.000     0.000"
     ]
    }
   ],
   "source": [
    "# Features vs target\n",
    "y = \"answer_accepted_7d_flag\"\n",
    "x = [\n",
    "\"post_hour\",\n",
    "\"post_dayofweek\",\n",
    "\"post_month\",    \n",
    "\"post_year\",\n",
    "\"post_body_char_count\",\n",
    "\"post_body_nocode_char_count\",\n",
    "\"post_body_code_perc\",\n",
    "\"post_body_code_flag\",\n",
    "\"post_body_image_flag\",\n",
    "\"post_body_link_flag\",\n",
    "\"post_body_bold_flag\",\n",
    "\"post_title_upper_flag\",\n",
    "\"post_title_question_flag\",\n",
    "\"post_title_char_count\",\n",
    "\"post_tag_count\",\n",
    "\"post_body_sent_count\",\n",
    "\"post_body_word_count\",\n",
    "\"post_title_word_count\",\n",
    "\"tag_post_count_max\",\n",
    "\"tag_post_count_30d_max\",\n",
    "\"tag_post_count_365d_max\",\n",
    "\"tag_post_count_avg\",\n",
    "\"tag_post_count_30d_avg\",\n",
    "\"tag_post_count_365d_avg\",\n",
    "\"user_age_days\",\n",
    "\"user_age_months\",\n",
    "\"user_website_flag\",\n",
    "\"user_location_flag\",\n",
    "\"user_about_me_flag\",\n",
    "\"user_badge_count\",\n",
    "\"user_badge_1_count\",\n",
    "\"user_badge_2_count\",\n",
    "\"user_badge_3_count\",\n",
    "\"user_post_count\",\n",
    "\"user_question_count\",\n",
    "\"user_answer_count\",\n",
    "\"user_first_post_flag\",\n",
    "\"user_first_question_flag\",\n",
    "\"user_answered_questions_count\",\n",
    "\"user_accepted_answers_count\",\n",
    "\"user_score\",\n",
    "\"user_question_score\",\n",
    "\"user_answer_score\"\n",
    "]\n",
    "\n",
    "df_model = df.select(*x, y)\n",
    "\n",
    "x_mean_vs_y = \\\n",
    "df_model.groupBy(y)\\\n",
    ".agg(*[f.mean(c[0]).alias(c[0]) for c in df_model.dtypes if not c[1] in (\"string\", \"timestamp\", \"array<string>\")] )\\\n",
    ".toPandas().transpose()\n",
    "\n",
    "x_median_vs_y = \\\n",
    "df_model.groupBy(y)\\\n",
    ".agg(*[f.expr(f\"percentile_approx({c[0]}, 0.5)\").alias(c[0]) for c in df_model.dtypes if not c[1] in (\"string\", \"timestamp\", \"array<string>\")] )\\\n",
    ".toPandas().transpose()\n",
    "\n",
    "x_vs_y = x_mean_vs_y.merge(x_median_vs_y, \n",
    "                           left_index=True, \n",
    "                           right_index=True,\n",
    "                          suffixes=(\"_mean\", \"_median\"))\n",
    "x_vs_y"
   ]
  },
  {
   "cell_type": "code",
   "execution_count": 9,
   "metadata": {},
   "outputs": [
    {
     "data": {
      "application/vnd.jupyter.widget-view+json": {
       "model_id": "4acbdbab1108405798ba91b0fbb40fb8",
       "version_major": 2,
       "version_minor": 0
      },
      "text/plain": [
       "VBox()"
      ]
     },
     "metadata": {},
     "output_type": "display_data"
    },
    {
     "data": {
      "application/vnd.jupyter.widget-view+json": {
       "model_id": "",
       "version_major": 2,
       "version_minor": 0
      },
      "text/plain": [
       "FloatProgress(value=0.0, bar_style='info', description='Progress:', layout=Layout(height='25px', width='50%'),…"
      ]
     },
     "metadata": {},
     "output_type": "display_data"
    },
    {
     "name": "stdout",
     "output_type": "stream",
     "text": [
      "+----------------------------+\n",
      "|avg(answer_accepted_7d_flag)|\n",
      "+----------------------------+\n",
      "|         0.28837863407399833|\n",
      "+----------------------------+\n",
      "\n",
      "+----------------------------+\n",
      "|avg(answer_accepted_7d_flag)|\n",
      "+----------------------------+\n",
      "|          0.2883649475837585|\n",
      "+----------------------------+"
     ]
    }
   ],
   "source": [
    "train, test = df_model.randomSplit([0.7, 0.3], seed=1)\n",
    "df.count(), train.count(), test.count()\n",
    "\n",
    "train.select(f.mean(y)).show()\n",
    "test.select(f.mean(y)).show()"
   ]
  },
  {
   "cell_type": "code",
   "execution_count": 10,
   "metadata": {},
   "outputs": [
    {
     "data": {
      "application/vnd.jupyter.widget-view+json": {
       "model_id": "fab12836ea9b48ecb8533e8ac53645da",
       "version_major": 2,
       "version_minor": 0
      },
      "text/plain": [
       "VBox()"
      ]
     },
     "metadata": {},
     "output_type": "display_data"
    },
    {
     "data": {
      "application/vnd.jupyter.widget-view+json": {
       "model_id": "",
       "version_major": 2,
       "version_minor": 0
      },
      "text/plain": [
       "FloatProgress(value=0.0, bar_style='info', description='Progress:', layout=Layout(height='25px', width='50%'),…"
      ]
     },
     "metadata": {},
     "output_type": "display_data"
    },
    {
     "name": "stdout",
     "output_type": "stream",
     "text": [
      "Accuracy: 0.7191611809375223\n",
      "ROC AUC: 0.6769007572072855\n",
      "PR AUC: 0.44600799571552063\n",
      "Confusion matrix:\n",
      " [[0.68353644 0.02809861]\n",
      " [0.25274021 0.03562474]]"
     ]
    }
   ],
   "source": [
    "# Baseline model\n",
    "indexer = StringIndexer(inputCol=y, outputCol='label')\n",
    "vec_assembler = VectorAssembler(inputCols=x, outputCol=\"features\")\n",
    "gbt = GBTClassifier(seed=1)\n",
    "pipeline = Pipeline(stages=[indexer, vec_assembler, gbt])\n",
    "\n",
    "model = pipeline.fit(train)\n",
    "prediction = model.transform(test)\n",
    "\n",
    "evaluator = MulticlassClassificationEvaluator(metricName=\"accuracy\")\n",
    "print(\"Accuracy:\", evaluator.evaluate(prediction))\n",
    "\n",
    "evaluator = BinaryClassificationEvaluator(metricName=\"areaUnderROC\")\n",
    "print(\"ROC AUC:\", evaluator.evaluate(prediction))\n",
    "\n",
    "evaluator = BinaryClassificationEvaluator(metricName=\"areaUnderPR\")\n",
    "print(\"PR AUC:\", evaluator.evaluate(prediction))\n",
    "\n",
    "metrics = MulticlassMetrics(prediction.select(\"prediction\", \"label\").rdd.map(tuple))\n",
    "print(\"Confusion matrix:\\n\", metrics.confusionMatrix().toArray()/test.count())"
   ]
  },
  {
   "cell_type": "code",
   "execution_count": 11,
   "metadata": {
    "scrolled": false
   },
   "outputs": [
    {
     "data": {
      "application/vnd.jupyter.widget-view+json": {
       "model_id": "d9aedff9ca2d4878a4b75d4cfeecf08b",
       "version_major": 2,
       "version_minor": 0
      },
      "text/plain": [
       "VBox()"
      ]
     },
     "metadata": {},
     "output_type": "display_data"
    },
    {
     "data": {
      "application/vnd.jupyter.widget-view+json": {
       "model_id": "",
       "version_major": 2,
       "version_minor": 0
      },
      "text/plain": [
       "FloatProgress(value=0.0, bar_style='info', description='Progress:', layout=Layout(height='25px', width='50%'),…"
      ]
     },
     "metadata": {},
     "output_type": "display_data"
    },
    {
     "name": "stdout",
     "output_type": "stream",
     "text": [
      "{Param(parent='GBTClassifier_611b50e3b828', name='maxBins', doc='Max number of bins for discretizing continuous features.  Must be at least 2 and at least number of categories for any categorical feature.'): 32,\n",
      " Param(parent='GBTClassifier_611b50e3b828', name='maxDepth', doc='Maximum depth of the tree. (Nonnegative) E.g., depth 0 means 1 leaf node; depth 1 means 1 internal node + 2 leaf nodes.'): 5,\n",
      " Param(parent='GBTClassifier_611b50e3b828', name='maxIter', doc='maximum number of iterations (>= 0)'): 20,\n",
      " Param(parent='GBTClassifier_611b50e3b828', name='maxMemoryInMB', doc='Maximum memory in MB allocated to histogram aggregation.'): 256,\n",
      " Param(parent='GBTClassifier_611b50e3b828', name='subsamplingRate', doc='Fraction of the training data used for learning each decision tree, in range (0, 1].'): 1.0,\n",
      " Param(parent='GBTClassifier_611b50e3b828', name='minInstancesPerNode', doc='Minimum number of instances each child must have after split.  If a split causes the left or right child to have fewer than minInstancesPerNode, the split will be discarded as invalid. Must be at least 1.'): 1,\n",
      " Param(parent='GBTClassifier_611b50e3b828', name='predictionCol', doc='prediction column name'): 'prediction',\n",
      " Param(parent='GBTClassifier_611b50e3b828', name='minInfoGain', doc='Minimum information gain for a split to be considered at a tree node.'): 0.0,\n",
      " Param(parent='GBTClassifier_611b50e3b828', name='stepSize', doc='Step size (a.k.a. learning rate) in interval (0, 1] for shrinking the contribution of each estimator.'): 0.1,\n",
      " Param(parent='GBTClassifier_611b50e3b828', name='seed', doc='random seed'): 1,\n",
      " Param(parent='GBTClassifier_611b50e3b828', name='cacheNodeIds', doc='If false, the algorithm will pass trees to executors to match instances with nodes. If true, the algorithm will cache node IDs for each instance. Caching can speed up training of deeper trees.'): False,\n",
      " Param(parent='GBTClassifier_611b50e3b828', name='checkpointInterval', doc='set checkpoint interval (>= 1) or disable checkpoint (-1). E.g. 10 means that the cache will get checkpointed every 10 iterations. Note: this setting will be ignored if the checkpoint directory is not set in the SparkContext'): 10,\n",
      " Param(parent='GBTClassifier_611b50e3b828', name='featureSubsetStrategy', doc='The number of features to consider for splits at each tree node. Supported options: auto, all, onethird, sqrt, log2, (0.0-1.0], [1-n].'): 'all',\n",
      " Param(parent='GBTClassifier_611b50e3b828', name='labelCol', doc='label column name'): 'label',\n",
      " Param(parent='GBTClassifier_611b50e3b828', name='featuresCol', doc='features column name'): 'features',\n",
      " Param(parent='GBTClassifier_611b50e3b828', name='lossType', doc='Loss function which GBT tries to minimize (case-insensitive). Supported options: logistic'): 'logistic'}"
     ]
    }
   ],
   "source": [
    "# Model parameters\n",
    "pprint(model.stages[2].extractParamMap())"
   ]
  },
  {
   "cell_type": "code",
   "execution_count": 12,
   "metadata": {},
   "outputs": [
    {
     "data": {
      "application/vnd.jupyter.widget-view+json": {
       "model_id": "46499c8ca8a243c98c44369cf82c3e3b",
       "version_major": 2,
       "version_minor": 0
      },
      "text/plain": [
       "VBox()"
      ]
     },
     "metadata": {},
     "output_type": "display_data"
    },
    {
     "data": {
      "application/vnd.jupyter.widget-view+json": {
       "model_id": "14ead300b94442ce9b4d95a94dd33574",
       "version_major": 2,
       "version_minor": 0
      },
      "text/plain": [
       "FloatProgress(value=0.0, bar_style='info', description='Progress:', layout=Layout(height='25px', width='50%'),…"
      ]
     },
     "metadata": {},
     "output_type": "display_data"
    },
    {
     "name": "stderr",
     "output_type": "stream",
     "text": [
      "Exception in thread cell_monitor-11:\n",
      "Traceback (most recent call last):\n",
      "  File \"/mnt/notebook-env/lib/python3.7/threading.py\", line 926, in _bootstrap_inner\n",
      "    self.run()\n",
      "  File \"/mnt/notebook-env/lib/python3.7/threading.py\", line 870, in run\n",
      "    self._target(*self._args, **self._kwargs)\n",
      "  File \"/mnt/notebook-env/lib/python3.7/site-packages/awseditorssparkmonitoringwidget-1.0-py3.7.egg/awseditorssparkmonitoringwidget/cellmonitor.py\", line 154, in cell_monitor\n",
      "    job_group_filtered_jobs = [job for job in jobs_data if job['jobGroup'] == str(statement_id)]\n",
      "  File \"/mnt/notebook-env/lib/python3.7/site-packages/awseditorssparkmonitoringwidget-1.0-py3.7.egg/awseditorssparkmonitoringwidget/cellmonitor.py\", line 154, in <listcomp>\n",
      "    job_group_filtered_jobs = [job for job in jobs_data if job['jobGroup'] == str(statement_id)]\n",
      "KeyError: 'jobGroup'\n",
      "\n",
      "An error was encountered:\n",
      "Invalid status code '404' from http://localhost:8998/sessions/4/statements/11 with error payload: {\"msg\":\"Session '4' not found.\"}\n"
     ]
    }
   ],
   "source": [
    "# Grid search\n",
    "paramGrid = ParamGridBuilder() \\\n",
    ".addGrid(gbt.stepSize, [0.05, 0.1, 0.15])\\\n",
    ".addGrid(gbt.maxDepth, [5, 8, 10])\\\n",
    ".addGrid(gbt.minInstancesPerNode, [10, 50, 100])\\\n",
    ".build()\n",
    "\n",
    "crossval = CrossValidator(estimator=pipeline,\n",
    "                          estimatorParamMaps=paramGrid,\n",
    "                          evaluator=BinaryClassificationEvaluator(metricName=\"areaUnderPR\"),\n",
    "                          numFolds=5,\n",
    "                         seed=1)\n",
    "\n",
    "cvModel = crossval.fit(train)\n",
    "prediction = cvModel.transform(test)"
   ]
  },
  {
   "cell_type": "code",
   "execution_count": 13,
   "metadata": {
    "scrolled": true
   },
   "outputs": [
    {
     "data": {
      "application/vnd.jupyter.widget-view+json": {
       "model_id": "158ca52182104b15bfe237b22f3cb64a",
       "version_major": 2,
       "version_minor": 0
      },
      "text/plain": [
       "VBox()"
      ]
     },
     "metadata": {},
     "output_type": "display_data"
    },
    {
     "name": "stderr",
     "output_type": "stream",
     "text": [
      "An error was encountered:\n",
      "Invalid status code '404' from http://localhost:8998/sessions/4 with error payload: {\"msg\":\"Session '4' not found.\"}\n"
     ]
    }
   ],
   "source": [
    "print(\"PR AUC:\", evaluator.evaluate(prediction))\n",
    "\n",
    "# Feature importance\n",
    "pd.DataFrame(model.stages[2].featureImportances.toArray(), index=x)\\\n",
    ".sort_values(0, ascending=False)"
   ]
  },
  {
   "cell_type": "code",
   "execution_count": null,
   "metadata": {},
   "outputs": [],
   "source": [
    "# Save model\n",
    "SimpleSparkSerializer().serializeToBundle(model, \"jar:file:/tmp/model.zip\", prediction)\n",
    "with zipfile.ZipFile(\"/tmp/model.zip\") as zf:\n",
    "    zf.extractall(\"/tmp/model\")\n",
    "with tarfile.open(\"/tmp/model.tar.gz\", \"w:gz\") as tar:\n",
    "    tar.add(\"/tmp/model/bundle.json\", arcname='bundle.json')\n",
    "    tar.add(\"/tmp/model/root\", arcname='root')"
   ]
  },
  {
   "cell_type": "code",
   "execution_count": 3,
   "metadata": {},
   "outputs": [
    {
     "data": {
      "application/vnd.jupyter.widget-view+json": {
       "model_id": "eff5a1dcc9314a879e13982438caeb45",
       "version_major": 2,
       "version_minor": 0
      },
      "text/plain": [
       "VBox()"
      ]
     },
     "metadata": {},
     "output_type": "display_data"
    },
    {
     "data": {
      "application/vnd.jupyter.widget-view+json": {
       "model_id": "",
       "version_major": 2,
       "version_minor": 0
      },
      "text/plain": [
       "FloatProgress(value=0.0, bar_style='info', description='Progress:', layout=Layout(height='25px', width='50%'),…"
      ]
     },
     "metadata": {},
     "output_type": "display_data"
    }
   ],
   "source": [
    "# upload to S3\n",
    "s3 = boto3.resource('s3') \n",
    "file_name = \"model.tar.gz\"\n",
    "bucket_name = \"rate-my-post-pre-2\"\n",
    "s3.Bucket(bucket_name).upload_file('/tmp/model.tar.gz', file_name)"
   ]
  },
  {
   "cell_type": "code",
   "execution_count": 5,
   "metadata": {},
   "outputs": [
    {
     "data": {
      "application/vnd.jupyter.widget-view+json": {
       "model_id": "1e70ac81d4c848cdb3f194c76358eaab",
       "version_major": 2,
       "version_minor": 0
      },
      "text/plain": [
       "VBox()"
      ]
     },
     "metadata": {},
     "output_type": "display_data"
    },
    {
     "data": {
      "application/vnd.jupyter.widget-view+json": {
       "model_id": "",
       "version_major": 2,
       "version_minor": 0
      },
      "text/plain": [
       "FloatProgress(value=0.0, bar_style='info', description='Progress:', layout=Layout(height='25px', width='50%'),…"
      ]
     },
     "metadata": {},
     "output_type": "display_data"
    },
    {
     "name": "stdout",
     "output_type": "stream",
     "text": [
      "---------------!<sagemaker.sparkml.model.SparkMLPredictor object at 0x7ff134c91a90>"
     ]
    }
   ],
   "source": [
    "# Deploy on Sagemaker\n",
    "os.environ[\"AWS_DEFAULT_REGION\"] = \"us-east-1\"\n",
    "sess = sagemaker.Session(boto3.session.Session())\n",
    "role = get_execution_role()\n",
    "\n",
    "schema = json.dumps(\n",
    "{\n",
    "    \"input\": [\n",
    "        {\n",
    "            \"name\": \"post_hour\",\n",
    "            \"type\": \"int\"\n",
    "        },\n",
    "        {\n",
    "            \"name\": \"post_dayofweek\",\n",
    "            \"type\": \"int\"\n",
    "        },\n",
    "        {\n",
    "            \"name\": \"post_month\",\n",
    "            \"type\": \"int\"\n",
    "        },\n",
    "        {\n",
    "            \"name\": \"post_year\",\n",
    "            \"type\": \"int\"\n",
    "        },\n",
    "        {\n",
    "            \"name\": \"post_body_char_count\",\n",
    "            \"type\": \"int\"\n",
    "        },\n",
    "        {\n",
    "            \"name\": \"post_body_nocode_char_count\",\n",
    "            \"type\": \"int\"\n",
    "        },\n",
    "        {\n",
    "            \"name\": \"post_body_code_perc\",\n",
    "            \"type\": \"double\"\n",
    "        },\n",
    "        {\n",
    "            \"name\": \"post_body_code_flag\",\n",
    "            \"type\": \"int\"\n",
    "        },\n",
    "        {\n",
    "            \"name\": \"post_body_image_flag\",\n",
    "            \"type\": \"int\"\n",
    "        },\n",
    "        {\n",
    "            \"name\": \"post_body_link_flag\",\n",
    "            \"type\": \"int\"\n",
    "        },\n",
    "        {\n",
    "            \"name\": \"post_body_bold_flag\",\n",
    "            \"type\": \"int\"\n",
    "        },\n",
    "        {\n",
    "            \"name\": \"post_title_upper_flag\",\n",
    "            \"type\": \"int\"\n",
    "        },\n",
    "        {\n",
    "            \"name\": \"post_title_question_flag\",\n",
    "            \"type\": \"int\"\n",
    "        },\n",
    "        {\n",
    "            \"name\": \"post_title_char_count\",\n",
    "            \"type\": \"int\"\n",
    "        },\n",
    "        {\n",
    "            \"name\": \"post_tag_count\",\n",
    "            \"type\": \"int\"\n",
    "        },\n",
    "        {\n",
    "            \"name\": \"post_body_sent_count\",\n",
    "            \"type\": \"int\"\n",
    "        },\n",
    "        {\n",
    "            \"name\": \"post_body_word_count\",\n",
    "            \"type\": \"int\"\n",
    "        },\n",
    "        {\n",
    "            \"name\": \"post_title_word_count\",\n",
    "            \"type\": \"int\"\n",
    "        },\n",
    "        {\n",
    "            \"name\": \"tag_post_count_max\",\n",
    "            \"type\": \"long\"\n",
    "        },\n",
    "        {\n",
    "            \"name\": \"tag_post_count_30d_max\",\n",
    "            \"type\": \"long\"\n",
    "        },\n",
    "        {\n",
    "            \"name\": \"tag_post_count_365d_max\",\n",
    "            \"type\": \"long\"\n",
    "        },\n",
    "        {\n",
    "            \"name\": \"tag_post_count_avg\",\n",
    "            \"type\": \"double\"\n",
    "        },\n",
    "        {\n",
    "            \"name\": \"tag_post_count_30d_avg\",\n",
    "            \"type\": \"double\"\n",
    "        },\n",
    "        {\n",
    "            \"name\": \"tag_post_count_365d_avg\",\n",
    "            \"type\": \"double\"\n",
    "        },\n",
    "        {\n",
    "            \"name\": \"user_age_days\",\n",
    "            \"type\": \"int\"\n",
    "        },\n",
    "        {\n",
    "            \"name\": \"user_age_months\",\n",
    "            \"type\": \"double\"\n",
    "        },\n",
    "        {\n",
    "            \"name\": \"user_website_flag\",\n",
    "            \"type\": \"int\"\n",
    "        },\n",
    "        {\n",
    "            \"name\": \"user_location_flag\",\n",
    "            \"type\": \"int\"\n",
    "        },\n",
    "        {\n",
    "            \"name\": \"user_about_me_flag\",\n",
    "            \"type\": \"int\"\n",
    "        },\n",
    "        {\n",
    "            \"name\": \"user_badge_count\",\n",
    "            \"type\": \"long\"\n",
    "        },\n",
    "        {\n",
    "            \"name\": \"user_badge_1_count\",\n",
    "            \"type\": \"long\"\n",
    "        },\n",
    "        {\n",
    "            \"name\": \"user_badge_2_count\",\n",
    "            \"type\": \"long\"\n",
    "        },\n",
    "        {\n",
    "            \"name\": \"user_badge_3_count\",\n",
    "            \"type\": \"long\"\n",
    "        },\n",
    "        {\n",
    "            \"name\": \"user_post_count\",\n",
    "            \"type\": \"long\"\n",
    "        },\n",
    "        {\n",
    "            \"name\": \"user_question_count\",\n",
    "            \"type\": \"long\"\n",
    "        },\n",
    "        {\n",
    "            \"name\": \"user_answer_count\",\n",
    "            \"type\": \"long\"\n",
    "        },\n",
    "        {\n",
    "            \"name\": \"user_first_post_flag\",\n",
    "            \"type\": \"int\"\n",
    "        },\n",
    "        {\n",
    "            \"name\": \"user_first_question_flag\",\n",
    "            \"type\": \"int\"\n",
    "        },\n",
    "        {\n",
    "            \"name\": \"user_answered_questions_count\",\n",
    "            \"type\": \"long\"\n",
    "        },\n",
    "        {\n",
    "            \"name\": \"user_accepted_answers_count\",\n",
    "            \"type\": \"long\"\n",
    "        },\n",
    "        {\n",
    "            \"name\": \"user_score\",\n",
    "            \"type\": \"long\"\n",
    "        },\n",
    "        {\n",
    "            \"name\": \"user_question_score\",\n",
    "            \"type\": \"long\"\n",
    "        },\n",
    "        {\n",
    "            \"name\": \"user_answer_score\",\n",
    "            \"type\": \"long\"\n",
    "        },\n",
    "        {\n",
    "            \"name\": \"answer_accepted_7d_flag\",\n",
    "            \"type\": \"int\"\n",
    "        }\n",
    "    ],\n",
    "    \"output\":\n",
    "        {\n",
    "            \"name\": \"probability\",\n",
    "            \"type\": \"double\",\n",
    "            \"struct\": \"vector\"\n",
    "    }\n",
    "}\n",
    ")\n",
    "\n",
    "model_name = \"rate-my-post\"\n",
    "sparkml_model = SparkMLModel(model_data='s3://{}/{}'.format(bucket_name, file_name), \n",
    "                             role=role, \n",
    "                             sagemaker_session=sess, \n",
    "                             name=model_name,\n",
    "                             env={'SAGEMAKER_SPARKML_SCHEMA' : schema})\n",
    "\n",
    "endpoint_name = 'test'\n",
    "sparkml_model.deploy(initial_instance_count=1, instance_type='ml.t2.large', endpoint_name=endpoint_name)"
   ]
  }
 ],
 "metadata": {
  "kernelspec": {
   "display_name": "PySpark",
   "language": "",
   "name": "pysparkkernel"
  },
  "language_info": {
   "codemirror_mode": {
    "name": "python",
    "version": 3
   },
   "mimetype": "text/x-python",
   "name": "pyspark",
   "pygments_lexer": "python3"
  }
 },
 "nbformat": 4,
 "nbformat_minor": 4
}
